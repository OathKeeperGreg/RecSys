{
 "cells": [
  {
   "cell_type": "markdown",
   "id": "400873fe",
   "metadata": {},
   "source": [
    "## Φόρτωση βιβλιοθηκών"
   ]
  },
  {
   "cell_type": "code",
   "execution_count": 2,
   "id": "a2739668",
   "metadata": {},
   "outputs": [
    {
     "name": "stdout",
     "output_type": "stream",
     "text": [
      "FM model is only supported on Linux.\n",
      "Windows executable can be found at http://www.libfm.org.\n"
     ]
    }
   ],
   "source": [
    "import cornac\n",
    "from cornac.eval_methods import RatioSplit\n",
    "from cornac.metrics import MAE, RMSE, Precision, Recall, AUC, MAP, NDCG\n",
    "import matplotlib.pyplot as plt\n",
    "from sklearn.metrics import roc_curve, auc, precision_recall_curve, average_precision_score\n",
    "import numpy as np\n",
    "import pickle\n",
    "\n",
    "import os\n",
    "folder = 'C:\\\\Users\\\\Greg\\\\Python\\\\RecSys'\n",
    "os.chdir(folder)\n",
    "\n",
    "#get data using Reader object\n",
    "from cornac.data import Reader\n",
    "reader = Reader()\n",
    "pharma_data = reader.read('dbo_PATIENT-DRUGS-COUNT.txt',fmt='UIR', sep=',')\n",
    "pharma2 = [(item[0], item[1], min(item[2], 10)) for item in pharma_data] #if labels < 10, make it 10\n",
    "\n"
   ]
  },
  {
   "cell_type": "markdown",
   "id": "f02e3c79",
   "metadata": {},
   "source": [
    "## Φόρτωση δεδομένων\n",
    "Φορτώνουμε τα δεδομένα, δείχνουμε την κατανομή των labels και τέλος τα χωρίζουμε σε train και test υποσύνολα με αναλογία 80%-20%."
   ]
  },
  {
   "cell_type": "code",
   "execution_count": 3,
   "id": "34738725",
   "metadata": {
    "scrolled": true
   },
   "outputs": [],
   "source": [
    "labels = [item[2] for item in pharma2]\n",
    "#plt.plot(np.sort(labels))\n",
    "\n",
    "\n",
    "rs = RatioSplit(data=pharma2, test_size=0.2, rating_threshold=1.5, seed=123)\n",
    "\n",
    "#g = cornac.data.graph.GraphModality(data=pharma2)\n",
    "#rs_g = RatioSplit(data=pharma2, test_size=0.2, rating_threshold=1.5, seed=123, item_graph=g)\n"
   ]
  },
  {
   "cell_type": "markdown",
   "id": "47072434",
   "metadata": {},
   "source": [
    "## Αλγόριθμος SVD με εύρεση βέλτιστων παραμέτρων με grid search"
   ]
  },
  {
   "cell_type": "code",
   "execution_count": 4,
   "id": "c9b3d735",
   "metadata": {},
   "outputs": [
    {
     "name": "stdout",
     "output_type": "stream",
     "text": [
      "Evaluating: {'k': 5, 'lambda_reg': 0.0001, 'learning_rate': 0.0001}\n"
     ]
    },
    {
     "data": {
      "application/vnd.jupyter.widget-view+json": {
       "model_id": "d600e51011604c998a5455b83e384812",
       "version_major": 2,
       "version_minor": 0
      },
      "text/plain": [
       "HBox(children=(FloatProgress(value=0.0, max=50.0), HTML(value='')))"
      ]
     },
     "metadata": {},
     "output_type": "display_data"
    },
    {
     "name": "stdout",
     "output_type": "stream",
     "text": [
      "\n",
      "Optimization finished!\n",
      "Evaluating: {'k': 5, 'lambda_reg': 0.0001, 'learning_rate': 0.001}\n"
     ]
    },
    {
     "data": {
      "application/vnd.jupyter.widget-view+json": {
       "model_id": "0a2bc2da29524b70a45c98bb10da87c8",
       "version_major": 2,
       "version_minor": 0
      },
      "text/plain": [
       "HBox(children=(FloatProgress(value=0.0, max=50.0), HTML(value='')))"
      ]
     },
     "metadata": {},
     "output_type": "display_data"
    },
    {
     "name": "stdout",
     "output_type": "stream",
     "text": [
      "\n",
      "Optimization finished!\n",
      "Evaluating: {'k': 5, 'lambda_reg': 0.0001, 'learning_rate': 0.01}\n"
     ]
    },
    {
     "data": {
      "application/vnd.jupyter.widget-view+json": {
       "model_id": "f2497ad7c23b4984b38d6865c97ff855",
       "version_major": 2,
       "version_minor": 0
      },
      "text/plain": [
       "HBox(children=(FloatProgress(value=0.0, max=50.0), HTML(value='')))"
      ]
     },
     "metadata": {},
     "output_type": "display_data"
    },
    {
     "name": "stdout",
     "output_type": "stream",
     "text": [
      "\n",
      "Optimization finished!\n",
      "Evaluating: {'k': 5, 'lambda_reg': 0.0001, 'learning_rate': 0.1}\n"
     ]
    },
    {
     "data": {
      "application/vnd.jupyter.widget-view+json": {
       "model_id": "95b6260dc8344b8a9fe79aeb4823d28a",
       "version_major": 2,
       "version_minor": 0
      },
      "text/plain": [
       "HBox(children=(FloatProgress(value=0.0, max=50.0), HTML(value='')))"
      ]
     },
     "metadata": {},
     "output_type": "display_data"
    },
    {
     "name": "stdout",
     "output_type": "stream",
     "text": [
      "\n",
      "Optimization finished!\n",
      "Evaluating: {'k': 5, 'lambda_reg': 0.001, 'learning_rate': 0.0001}\n"
     ]
    },
    {
     "data": {
      "application/vnd.jupyter.widget-view+json": {
       "model_id": "ee0553a3dd3243a89ddf192d18393f60",
       "version_major": 2,
       "version_minor": 0
      },
      "text/plain": [
       "HBox(children=(FloatProgress(value=0.0, max=50.0), HTML(value='')))"
      ]
     },
     "metadata": {},
     "output_type": "display_data"
    },
    {
     "name": "stdout",
     "output_type": "stream",
     "text": [
      "\n",
      "Optimization finished!\n",
      "Evaluating: {'k': 5, 'lambda_reg': 0.001, 'learning_rate': 0.001}\n"
     ]
    },
    {
     "data": {
      "application/vnd.jupyter.widget-view+json": {
       "model_id": "277fddcd84c345198f0305072bab5765",
       "version_major": 2,
       "version_minor": 0
      },
      "text/plain": [
       "HBox(children=(FloatProgress(value=0.0, max=50.0), HTML(value='')))"
      ]
     },
     "metadata": {},
     "output_type": "display_data"
    },
    {
     "name": "stdout",
     "output_type": "stream",
     "text": [
      "\n",
      "Optimization finished!\n",
      "Evaluating: {'k': 5, 'lambda_reg': 0.001, 'learning_rate': 0.01}\n"
     ]
    },
    {
     "data": {
      "application/vnd.jupyter.widget-view+json": {
       "model_id": "210285ae1cab4ef792252b8dcb6de5a3",
       "version_major": 2,
       "version_minor": 0
      },
      "text/plain": [
       "HBox(children=(FloatProgress(value=0.0, max=50.0), HTML(value='')))"
      ]
     },
     "metadata": {},
     "output_type": "display_data"
    },
    {
     "name": "stdout",
     "output_type": "stream",
     "text": [
      "\n",
      "Optimization finished!\n",
      "Evaluating: {'k': 5, 'lambda_reg': 0.001, 'learning_rate': 0.1}\n"
     ]
    },
    {
     "data": {
      "application/vnd.jupyter.widget-view+json": {
       "model_id": "7e0fec216b0244668b71f13a217bf74c",
       "version_major": 2,
       "version_minor": 0
      },
      "text/plain": [
       "HBox(children=(FloatProgress(value=0.0, max=50.0), HTML(value='')))"
      ]
     },
     "metadata": {},
     "output_type": "display_data"
    },
    {
     "name": "stdout",
     "output_type": "stream",
     "text": [
      "\n",
      "Optimization finished!\n",
      "Evaluating: {'k': 5, 'lambda_reg': 0.01, 'learning_rate': 0.0001}\n"
     ]
    },
    {
     "data": {
      "application/vnd.jupyter.widget-view+json": {
       "model_id": "8f99d4d0788d43e4a39bb970103a692f",
       "version_major": 2,
       "version_minor": 0
      },
      "text/plain": [
       "HBox(children=(FloatProgress(value=0.0, max=50.0), HTML(value='')))"
      ]
     },
     "metadata": {},
     "output_type": "display_data"
    },
    {
     "name": "stdout",
     "output_type": "stream",
     "text": [
      "\n",
      "Optimization finished!\n",
      "Evaluating: {'k': 5, 'lambda_reg': 0.01, 'learning_rate': 0.001}\n"
     ]
    },
    {
     "data": {
      "application/vnd.jupyter.widget-view+json": {
       "model_id": "bffdc0276968441da9338e4f1dd86bc6",
       "version_major": 2,
       "version_minor": 0
      },
      "text/plain": [
       "HBox(children=(FloatProgress(value=0.0, max=50.0), HTML(value='')))"
      ]
     },
     "metadata": {},
     "output_type": "display_data"
    },
    {
     "name": "stdout",
     "output_type": "stream",
     "text": [
      "\n",
      "Optimization finished!\n",
      "Evaluating: {'k': 5, 'lambda_reg': 0.01, 'learning_rate': 0.01}\n"
     ]
    },
    {
     "data": {
      "application/vnd.jupyter.widget-view+json": {
       "model_id": "60b21c2ad0b74e8b8aef5b1ee42dc2b1",
       "version_major": 2,
       "version_minor": 0
      },
      "text/plain": [
       "HBox(children=(FloatProgress(value=0.0, max=50.0), HTML(value='')))"
      ]
     },
     "metadata": {},
     "output_type": "display_data"
    },
    {
     "name": "stdout",
     "output_type": "stream",
     "text": [
      "\n",
      "Optimization finished!\n",
      "Evaluating: {'k': 5, 'lambda_reg': 0.01, 'learning_rate': 0.1}\n"
     ]
    },
    {
     "data": {
      "application/vnd.jupyter.widget-view+json": {
       "model_id": "a8fac04e844a4e0b96556826073997c6",
       "version_major": 2,
       "version_minor": 0
      },
      "text/plain": [
       "HBox(children=(FloatProgress(value=0.0, max=50.0), HTML(value='')))"
      ]
     },
     "metadata": {},
     "output_type": "display_data"
    },
    {
     "name": "stdout",
     "output_type": "stream",
     "text": [
      "\n",
      "Optimization finished!\n",
      "Evaluating: {'k': 5, 'lambda_reg': 0.1, 'learning_rate': 0.0001}\n"
     ]
    },
    {
     "data": {
      "application/vnd.jupyter.widget-view+json": {
       "model_id": "15de07e715004447b8ce3d75e8a736aa",
       "version_major": 2,
       "version_minor": 0
      },
      "text/plain": [
       "HBox(children=(FloatProgress(value=0.0, max=50.0), HTML(value='')))"
      ]
     },
     "metadata": {},
     "output_type": "display_data"
    },
    {
     "name": "stdout",
     "output_type": "stream",
     "text": [
      "\n",
      "Optimization finished!\n",
      "Evaluating: {'k': 5, 'lambda_reg': 0.1, 'learning_rate': 0.001}\n"
     ]
    },
    {
     "data": {
      "application/vnd.jupyter.widget-view+json": {
       "model_id": "33ab91942ebb4d6a93857ff561e20a60",
       "version_major": 2,
       "version_minor": 0
      },
      "text/plain": [
       "HBox(children=(FloatProgress(value=0.0, max=50.0), HTML(value='')))"
      ]
     },
     "metadata": {},
     "output_type": "display_data"
    },
    {
     "name": "stdout",
     "output_type": "stream",
     "text": [
      "\n",
      "Optimization finished!\n",
      "Evaluating: {'k': 5, 'lambda_reg': 0.1, 'learning_rate': 0.01}\n"
     ]
    },
    {
     "data": {
      "application/vnd.jupyter.widget-view+json": {
       "model_id": "108d784673b147fa92ab1e6f61b006d1",
       "version_major": 2,
       "version_minor": 0
      },
      "text/plain": [
       "HBox(children=(FloatProgress(value=0.0, max=50.0), HTML(value='')))"
      ]
     },
     "metadata": {},
     "output_type": "display_data"
    },
    {
     "name": "stdout",
     "output_type": "stream",
     "text": [
      "\n",
      "Optimization finished!\n",
      "Evaluating: {'k': 5, 'lambda_reg': 0.1, 'learning_rate': 0.1}\n"
     ]
    },
    {
     "data": {
      "application/vnd.jupyter.widget-view+json": {
       "model_id": "67d8b6b557cc42409926acf7660c0a92",
       "version_major": 2,
       "version_minor": 0
      },
      "text/plain": [
       "HBox(children=(FloatProgress(value=0.0, max=50.0), HTML(value='')))"
      ]
     },
     "metadata": {},
     "output_type": "display_data"
    },
    {
     "name": "stdout",
     "output_type": "stream",
     "text": [
      "\n",
      "Optimization finished!\n",
      "Evaluating: {'k': 10, 'lambda_reg': 0.0001, 'learning_rate': 0.0001}\n"
     ]
    },
    {
     "data": {
      "application/vnd.jupyter.widget-view+json": {
       "model_id": "2aecda4ce6e649f485962490d8397172",
       "version_major": 2,
       "version_minor": 0
      },
      "text/plain": [
       "HBox(children=(FloatProgress(value=0.0, max=50.0), HTML(value='')))"
      ]
     },
     "metadata": {},
     "output_type": "display_data"
    },
    {
     "name": "stdout",
     "output_type": "stream",
     "text": [
      "\n",
      "Optimization finished!\n",
      "Evaluating: {'k': 10, 'lambda_reg': 0.0001, 'learning_rate': 0.001}\n"
     ]
    },
    {
     "data": {
      "application/vnd.jupyter.widget-view+json": {
       "model_id": "dd75b73a3eb84498bd4bc0fbe1bfa815",
       "version_major": 2,
       "version_minor": 0
      },
      "text/plain": [
       "HBox(children=(FloatProgress(value=0.0, max=50.0), HTML(value='')))"
      ]
     },
     "metadata": {},
     "output_type": "display_data"
    },
    {
     "name": "stdout",
     "output_type": "stream",
     "text": [
      "\n",
      "Optimization finished!\n",
      "Evaluating: {'k': 10, 'lambda_reg': 0.0001, 'learning_rate': 0.01}\n"
     ]
    },
    {
     "data": {
      "application/vnd.jupyter.widget-view+json": {
       "model_id": "8df95ac622e94440aca3b08e88ff15cc",
       "version_major": 2,
       "version_minor": 0
      },
      "text/plain": [
       "HBox(children=(FloatProgress(value=0.0, max=50.0), HTML(value='')))"
      ]
     },
     "metadata": {},
     "output_type": "display_data"
    },
    {
     "name": "stdout",
     "output_type": "stream",
     "text": [
      "\n",
      "Optimization finished!\n",
      "Evaluating: {'k': 10, 'lambda_reg': 0.0001, 'learning_rate': 0.1}\n"
     ]
    },
    {
     "data": {
      "application/vnd.jupyter.widget-view+json": {
       "model_id": "7a081bc812014b14a620bb3fe3d01cf7",
       "version_major": 2,
       "version_minor": 0
      },
      "text/plain": [
       "HBox(children=(FloatProgress(value=0.0, max=50.0), HTML(value='')))"
      ]
     },
     "metadata": {},
     "output_type": "display_data"
    },
    {
     "name": "stdout",
     "output_type": "stream",
     "text": [
      "\n",
      "Optimization finished!\n",
      "Evaluating: {'k': 10, 'lambda_reg': 0.001, 'learning_rate': 0.0001}\n"
     ]
    },
    {
     "data": {
      "application/vnd.jupyter.widget-view+json": {
       "model_id": "b3ba98dca9224225a2e1065d24b06208",
       "version_major": 2,
       "version_minor": 0
      },
      "text/plain": [
       "HBox(children=(FloatProgress(value=0.0, max=50.0), HTML(value='')))"
      ]
     },
     "metadata": {},
     "output_type": "display_data"
    },
    {
     "name": "stdout",
     "output_type": "stream",
     "text": [
      "\n",
      "Optimization finished!\n",
      "Evaluating: {'k': 10, 'lambda_reg': 0.001, 'learning_rate': 0.001}\n"
     ]
    },
    {
     "data": {
      "application/vnd.jupyter.widget-view+json": {
       "model_id": "47bd19252f8649d184785ccdcbe0dc94",
       "version_major": 2,
       "version_minor": 0
      },
      "text/plain": [
       "HBox(children=(FloatProgress(value=0.0, max=50.0), HTML(value='')))"
      ]
     },
     "metadata": {},
     "output_type": "display_data"
    },
    {
     "name": "stdout",
     "output_type": "stream",
     "text": [
      "\n",
      "Optimization finished!\n",
      "Evaluating: {'k': 10, 'lambda_reg': 0.001, 'learning_rate': 0.01}\n"
     ]
    },
    {
     "data": {
      "application/vnd.jupyter.widget-view+json": {
       "model_id": "acd2c2fb671a4d6eb9ab254853d53748",
       "version_major": 2,
       "version_minor": 0
      },
      "text/plain": [
       "HBox(children=(FloatProgress(value=0.0, max=50.0), HTML(value='')))"
      ]
     },
     "metadata": {},
     "output_type": "display_data"
    },
    {
     "name": "stdout",
     "output_type": "stream",
     "text": [
      "\n",
      "Optimization finished!\n",
      "Evaluating: {'k': 10, 'lambda_reg': 0.001, 'learning_rate': 0.1}\n"
     ]
    },
    {
     "data": {
      "application/vnd.jupyter.widget-view+json": {
       "model_id": "38217b89c6c24efbbe80dcb696399647",
       "version_major": 2,
       "version_minor": 0
      },
      "text/plain": [
       "HBox(children=(FloatProgress(value=0.0, max=50.0), HTML(value='')))"
      ]
     },
     "metadata": {},
     "output_type": "display_data"
    },
    {
     "name": "stdout",
     "output_type": "stream",
     "text": [
      "\n",
      "Optimization finished!\n"
     ]
    },
    {
     "name": "stderr",
     "output_type": "stream",
     "text": [
      "D:\\anaconda\\envs\\py37\\lib\\site-packages\\cornac\\utils\\common.py:93: RuntimeWarning: invalid value encountered in less\n",
      "  values = np.where(values < lower_bound, lower_bound, values)\n"
     ]
    },
    {
     "name": "stdout",
     "output_type": "stream",
     "text": [
      "Evaluating: {'k': 10, 'lambda_reg': 0.01, 'learning_rate': 0.0001}\n"
     ]
    },
    {
     "name": "stderr",
     "output_type": "stream",
     "text": [
      "D:\\anaconda\\envs\\py37\\lib\\site-packages\\cornac\\hyperopt.py:161: RuntimeWarning: invalid value encountered in less\n",
      "  if compare_op(score, self.best_score):\n"
     ]
    },
    {
     "data": {
      "application/vnd.jupyter.widget-view+json": {
       "model_id": "73a10e47f8284e038a79b485231cb9e5",
       "version_major": 2,
       "version_minor": 0
      },
      "text/plain": [
       "HBox(children=(FloatProgress(value=0.0, max=50.0), HTML(value='')))"
      ]
     },
     "metadata": {},
     "output_type": "display_data"
    },
    {
     "name": "stdout",
     "output_type": "stream",
     "text": [
      "\n",
      "Optimization finished!\n",
      "Evaluating: {'k': 10, 'lambda_reg': 0.01, 'learning_rate': 0.001}\n"
     ]
    },
    {
     "data": {
      "application/vnd.jupyter.widget-view+json": {
       "model_id": "687247631d324e2e96b088727998838c",
       "version_major": 2,
       "version_minor": 0
      },
      "text/plain": [
       "HBox(children=(FloatProgress(value=0.0, max=50.0), HTML(value='')))"
      ]
     },
     "metadata": {},
     "output_type": "display_data"
    },
    {
     "name": "stdout",
     "output_type": "stream",
     "text": [
      "\n",
      "Optimization finished!\n",
      "Evaluating: {'k': 10, 'lambda_reg': 0.01, 'learning_rate': 0.01}\n"
     ]
    },
    {
     "data": {
      "application/vnd.jupyter.widget-view+json": {
       "model_id": "65eb46629fe64d509c7c9936563e539b",
       "version_major": 2,
       "version_minor": 0
      },
      "text/plain": [
       "HBox(children=(FloatProgress(value=0.0, max=50.0), HTML(value='')))"
      ]
     },
     "metadata": {},
     "output_type": "display_data"
    },
    {
     "name": "stdout",
     "output_type": "stream",
     "text": [
      "\n",
      "Optimization finished!\n",
      "Evaluating: {'k': 10, 'lambda_reg': 0.01, 'learning_rate': 0.1}\n"
     ]
    },
    {
     "data": {
      "application/vnd.jupyter.widget-view+json": {
       "model_id": "19178eca4dbd493a999dbcab90e0d6f5",
       "version_major": 2,
       "version_minor": 0
      },
      "text/plain": [
       "HBox(children=(FloatProgress(value=0.0, max=50.0), HTML(value='')))"
      ]
     },
     "metadata": {},
     "output_type": "display_data"
    },
    {
     "name": "stdout",
     "output_type": "stream",
     "text": [
      "\n",
      "Optimization finished!\n",
      "Evaluating: {'k': 10, 'lambda_reg': 0.1, 'learning_rate': 0.0001}\n"
     ]
    },
    {
     "data": {
      "application/vnd.jupyter.widget-view+json": {
       "model_id": "205c14d2ff94415389fa2afd9bbce731",
       "version_major": 2,
       "version_minor": 0
      },
      "text/plain": [
       "HBox(children=(FloatProgress(value=0.0, max=50.0), HTML(value='')))"
      ]
     },
     "metadata": {},
     "output_type": "display_data"
    },
    {
     "name": "stdout",
     "output_type": "stream",
     "text": [
      "\n",
      "Optimization finished!\n",
      "Evaluating: {'k': 10, 'lambda_reg': 0.1, 'learning_rate': 0.001}\n"
     ]
    },
    {
     "data": {
      "application/vnd.jupyter.widget-view+json": {
       "model_id": "c225259d9bd24d678db1a256c9af04fe",
       "version_major": 2,
       "version_minor": 0
      },
      "text/plain": [
       "HBox(children=(FloatProgress(value=0.0, max=50.0), HTML(value='')))"
      ]
     },
     "metadata": {},
     "output_type": "display_data"
    },
    {
     "name": "stdout",
     "output_type": "stream",
     "text": [
      "\n",
      "Optimization finished!\n",
      "Evaluating: {'k': 10, 'lambda_reg': 0.1, 'learning_rate': 0.01}\n"
     ]
    },
    {
     "data": {
      "application/vnd.jupyter.widget-view+json": {
       "model_id": "e563e58440f1488db81b7511e79f2807",
       "version_major": 2,
       "version_minor": 0
      },
      "text/plain": [
       "HBox(children=(FloatProgress(value=0.0, max=50.0), HTML(value='')))"
      ]
     },
     "metadata": {},
     "output_type": "display_data"
    },
    {
     "name": "stdout",
     "output_type": "stream",
     "text": [
      "\n",
      "Optimization finished!\n",
      "Evaluating: {'k': 10, 'lambda_reg': 0.1, 'learning_rate': 0.1}\n"
     ]
    },
    {
     "data": {
      "application/vnd.jupyter.widget-view+json": {
       "model_id": "267ac4b703a14fabb0b8ce7195bd9dfe",
       "version_major": 2,
       "version_minor": 0
      },
      "text/plain": [
       "HBox(children=(FloatProgress(value=0.0, max=50.0), HTML(value='')))"
      ]
     },
     "metadata": {},
     "output_type": "display_data"
    },
    {
     "name": "stdout",
     "output_type": "stream",
     "text": [
      "\n",
      "Optimization finished!\n",
      "Evaluating: {'k': 15, 'lambda_reg': 0.0001, 'learning_rate': 0.0001}\n"
     ]
    },
    {
     "data": {
      "application/vnd.jupyter.widget-view+json": {
       "model_id": "e017e43608c24eafbc9e6f5ed24307ee",
       "version_major": 2,
       "version_minor": 0
      },
      "text/plain": [
       "HBox(children=(FloatProgress(value=0.0, max=50.0), HTML(value='')))"
      ]
     },
     "metadata": {},
     "output_type": "display_data"
    },
    {
     "name": "stdout",
     "output_type": "stream",
     "text": [
      "\n",
      "Optimization finished!\n",
      "Evaluating: {'k': 15, 'lambda_reg': 0.0001, 'learning_rate': 0.001}\n"
     ]
    },
    {
     "data": {
      "application/vnd.jupyter.widget-view+json": {
       "model_id": "c6cd3e9b6e0a4bd296c17d854c189654",
       "version_major": 2,
       "version_minor": 0
      },
      "text/plain": [
       "HBox(children=(FloatProgress(value=0.0, max=50.0), HTML(value='')))"
      ]
     },
     "metadata": {},
     "output_type": "display_data"
    },
    {
     "name": "stdout",
     "output_type": "stream",
     "text": [
      "\n",
      "Optimization finished!\n",
      "Evaluating: {'k': 15, 'lambda_reg': 0.0001, 'learning_rate': 0.01}\n"
     ]
    },
    {
     "data": {
      "application/vnd.jupyter.widget-view+json": {
       "model_id": "40bfe4b2e95f41a0a5600a8a8c964d72",
       "version_major": 2,
       "version_minor": 0
      },
      "text/plain": [
       "HBox(children=(FloatProgress(value=0.0, max=50.0), HTML(value='')))"
      ]
     },
     "metadata": {},
     "output_type": "display_data"
    },
    {
     "name": "stdout",
     "output_type": "stream",
     "text": [
      "\n",
      "Optimization finished!\n",
      "Evaluating: {'k': 15, 'lambda_reg': 0.0001, 'learning_rate': 0.1}\n"
     ]
    },
    {
     "data": {
      "application/vnd.jupyter.widget-view+json": {
       "model_id": "80a245a1e1ad45c596416ba514212b4f",
       "version_major": 2,
       "version_minor": 0
      },
      "text/plain": [
       "HBox(children=(FloatProgress(value=0.0, max=50.0), HTML(value='')))"
      ]
     },
     "metadata": {},
     "output_type": "display_data"
    },
    {
     "name": "stdout",
     "output_type": "stream",
     "text": [
      "\n",
      "Optimization finished!\n",
      "Evaluating: {'k': 15, 'lambda_reg': 0.001, 'learning_rate': 0.0001}\n"
     ]
    },
    {
     "data": {
      "application/vnd.jupyter.widget-view+json": {
       "model_id": "c857704f261b4960b99a1abd3bfe701d",
       "version_major": 2,
       "version_minor": 0
      },
      "text/plain": [
       "HBox(children=(FloatProgress(value=0.0, max=50.0), HTML(value='')))"
      ]
     },
     "metadata": {},
     "output_type": "display_data"
    },
    {
     "name": "stdout",
     "output_type": "stream",
     "text": [
      "\n",
      "Optimization finished!\n",
      "Evaluating: {'k': 15, 'lambda_reg': 0.001, 'learning_rate': 0.001}\n"
     ]
    },
    {
     "data": {
      "application/vnd.jupyter.widget-view+json": {
       "model_id": "75a662605f784e83b64340c2c372492d",
       "version_major": 2,
       "version_minor": 0
      },
      "text/plain": [
       "HBox(children=(FloatProgress(value=0.0, max=50.0), HTML(value='')))"
      ]
     },
     "metadata": {},
     "output_type": "display_data"
    },
    {
     "name": "stdout",
     "output_type": "stream",
     "text": [
      "\n",
      "Optimization finished!\n",
      "Evaluating: {'k': 15, 'lambda_reg': 0.001, 'learning_rate': 0.01}\n"
     ]
    },
    {
     "data": {
      "application/vnd.jupyter.widget-view+json": {
       "model_id": "5f2735b114f64d4d8ca1dc811c0b4046",
       "version_major": 2,
       "version_minor": 0
      },
      "text/plain": [
       "HBox(children=(FloatProgress(value=0.0, max=50.0), HTML(value='')))"
      ]
     },
     "metadata": {},
     "output_type": "display_data"
    },
    {
     "name": "stdout",
     "output_type": "stream",
     "text": [
      "\n",
      "Optimization finished!\n",
      "Evaluating: {'k': 15, 'lambda_reg': 0.001, 'learning_rate': 0.1}\n"
     ]
    },
    {
     "data": {
      "application/vnd.jupyter.widget-view+json": {
       "model_id": "ecc6b26504224b1c8c75119d57e68610",
       "version_major": 2,
       "version_minor": 0
      },
      "text/plain": [
       "HBox(children=(FloatProgress(value=0.0, max=50.0), HTML(value='')))"
      ]
     },
     "metadata": {},
     "output_type": "display_data"
    },
    {
     "name": "stdout",
     "output_type": "stream",
     "text": [
      "\n",
      "Optimization finished!\n",
      "Evaluating: {'k': 15, 'lambda_reg': 0.01, 'learning_rate': 0.0001}\n"
     ]
    },
    {
     "data": {
      "application/vnd.jupyter.widget-view+json": {
       "model_id": "baf4493250bd4bf9aa1990e738343a77",
       "version_major": 2,
       "version_minor": 0
      },
      "text/plain": [
       "HBox(children=(FloatProgress(value=0.0, max=50.0), HTML(value='')))"
      ]
     },
     "metadata": {},
     "output_type": "display_data"
    },
    {
     "name": "stdout",
     "output_type": "stream",
     "text": [
      "\n",
      "Optimization finished!\n",
      "Evaluating: {'k': 15, 'lambda_reg': 0.01, 'learning_rate': 0.001}\n"
     ]
    },
    {
     "data": {
      "application/vnd.jupyter.widget-view+json": {
       "model_id": "31746184f80348cabea9122c490934d2",
       "version_major": 2,
       "version_minor": 0
      },
      "text/plain": [
       "HBox(children=(FloatProgress(value=0.0, max=50.0), HTML(value='')))"
      ]
     },
     "metadata": {},
     "output_type": "display_data"
    },
    {
     "name": "stdout",
     "output_type": "stream",
     "text": [
      "\n",
      "Optimization finished!\n",
      "Evaluating: {'k': 15, 'lambda_reg': 0.01, 'learning_rate': 0.01}\n"
     ]
    },
    {
     "data": {
      "application/vnd.jupyter.widget-view+json": {
       "model_id": "3383be2a203d405cbd33a7c343031a09",
       "version_major": 2,
       "version_minor": 0
      },
      "text/plain": [
       "HBox(children=(FloatProgress(value=0.0, max=50.0), HTML(value='')))"
      ]
     },
     "metadata": {},
     "output_type": "display_data"
    },
    {
     "name": "stdout",
     "output_type": "stream",
     "text": [
      "\n",
      "Optimization finished!\n",
      "Evaluating: {'k': 15, 'lambda_reg': 0.01, 'learning_rate': 0.1}\n"
     ]
    },
    {
     "data": {
      "application/vnd.jupyter.widget-view+json": {
       "model_id": "f7beb952649a42f38fea7fe6d7e721a3",
       "version_major": 2,
       "version_minor": 0
      },
      "text/plain": [
       "HBox(children=(FloatProgress(value=0.0, max=50.0), HTML(value='')))"
      ]
     },
     "metadata": {},
     "output_type": "display_data"
    },
    {
     "name": "stdout",
     "output_type": "stream",
     "text": [
      "\n",
      "Optimization finished!\n",
      "Evaluating: {'k': 15, 'lambda_reg': 0.1, 'learning_rate': 0.0001}\n"
     ]
    },
    {
     "data": {
      "application/vnd.jupyter.widget-view+json": {
       "model_id": "3f0a701780a542cf878ace8e913133d3",
       "version_major": 2,
       "version_minor": 0
      },
      "text/plain": [
       "HBox(children=(FloatProgress(value=0.0, max=50.0), HTML(value='')))"
      ]
     },
     "metadata": {},
     "output_type": "display_data"
    },
    {
     "name": "stdout",
     "output_type": "stream",
     "text": [
      "\n",
      "Optimization finished!\n",
      "Evaluating: {'k': 15, 'lambda_reg': 0.1, 'learning_rate': 0.001}\n"
     ]
    },
    {
     "data": {
      "application/vnd.jupyter.widget-view+json": {
       "model_id": "2b49d74299a242c6a0cb4423fe093734",
       "version_major": 2,
       "version_minor": 0
      },
      "text/plain": [
       "HBox(children=(FloatProgress(value=0.0, max=50.0), HTML(value='')))"
      ]
     },
     "metadata": {},
     "output_type": "display_data"
    },
    {
     "name": "stdout",
     "output_type": "stream",
     "text": [
      "\n",
      "Optimization finished!\n",
      "Evaluating: {'k': 15, 'lambda_reg': 0.1, 'learning_rate': 0.01}\n"
     ]
    },
    {
     "data": {
      "application/vnd.jupyter.widget-view+json": {
       "model_id": "f6238ba2b1154f3ca3fb4846150eaaa5",
       "version_major": 2,
       "version_minor": 0
      },
      "text/plain": [
       "HBox(children=(FloatProgress(value=0.0, max=50.0), HTML(value='')))"
      ]
     },
     "metadata": {},
     "output_type": "display_data"
    },
    {
     "name": "stdout",
     "output_type": "stream",
     "text": [
      "\n",
      "Optimization finished!\n",
      "Evaluating: {'k': 15, 'lambda_reg': 0.1, 'learning_rate': 0.1}\n"
     ]
    },
    {
     "data": {
      "application/vnd.jupyter.widget-view+json": {
       "model_id": "b766debdf48b4d268b9302ff5ccdfa3a",
       "version_major": 2,
       "version_minor": 0
      },
      "text/plain": [
       "HBox(children=(FloatProgress(value=0.0, max=50.0), HTML(value='')))"
      ]
     },
     "metadata": {},
     "output_type": "display_data"
    },
    {
     "name": "stdout",
     "output_type": "stream",
     "text": [
      "\n",
      "Optimization finished!\n",
      "Evaluating: {'k': 20, 'lambda_reg': 0.0001, 'learning_rate': 0.0001}\n"
     ]
    },
    {
     "data": {
      "application/vnd.jupyter.widget-view+json": {
       "model_id": "285dad1dd71a4cebb46415a570252b3e",
       "version_major": 2,
       "version_minor": 0
      },
      "text/plain": [
       "HBox(children=(FloatProgress(value=0.0, max=50.0), HTML(value='')))"
      ]
     },
     "metadata": {},
     "output_type": "display_data"
    },
    {
     "name": "stdout",
     "output_type": "stream",
     "text": [
      "\n",
      "Optimization finished!\n",
      "Evaluating: {'k': 20, 'lambda_reg': 0.0001, 'learning_rate': 0.001}\n"
     ]
    },
    {
     "data": {
      "application/vnd.jupyter.widget-view+json": {
       "model_id": "2b68c1cb7feb4190b0409dfb81127ecf",
       "version_major": 2,
       "version_minor": 0
      },
      "text/plain": [
       "HBox(children=(FloatProgress(value=0.0, max=50.0), HTML(value='')))"
      ]
     },
     "metadata": {},
     "output_type": "display_data"
    },
    {
     "name": "stdout",
     "output_type": "stream",
     "text": [
      "\n",
      "Optimization finished!\n",
      "Evaluating: {'k': 20, 'lambda_reg': 0.0001, 'learning_rate': 0.01}\n"
     ]
    },
    {
     "data": {
      "application/vnd.jupyter.widget-view+json": {
       "model_id": "6bcf93daafde45c789c6813cbe51bd49",
       "version_major": 2,
       "version_minor": 0
      },
      "text/plain": [
       "HBox(children=(FloatProgress(value=0.0, max=50.0), HTML(value='')))"
      ]
     },
     "metadata": {},
     "output_type": "display_data"
    },
    {
     "name": "stdout",
     "output_type": "stream",
     "text": [
      "\n",
      "Optimization finished!\n",
      "Evaluating: {'k': 20, 'lambda_reg': 0.0001, 'learning_rate': 0.1}\n"
     ]
    },
    {
     "data": {
      "application/vnd.jupyter.widget-view+json": {
       "model_id": "c2fde72a366c44cfa86a449c3153a743",
       "version_major": 2,
       "version_minor": 0
      },
      "text/plain": [
       "HBox(children=(FloatProgress(value=0.0, max=50.0), HTML(value='')))"
      ]
     },
     "metadata": {},
     "output_type": "display_data"
    },
    {
     "name": "stdout",
     "output_type": "stream",
     "text": [
      "\n",
      "Optimization finished!\n",
      "Evaluating: {'k': 20, 'lambda_reg': 0.001, 'learning_rate': 0.0001}\n"
     ]
    },
    {
     "data": {
      "application/vnd.jupyter.widget-view+json": {
       "model_id": "2a8b5d8237e444c191e2cb35fb82387b",
       "version_major": 2,
       "version_minor": 0
      },
      "text/plain": [
       "HBox(children=(FloatProgress(value=0.0, max=50.0), HTML(value='')))"
      ]
     },
     "metadata": {},
     "output_type": "display_data"
    },
    {
     "name": "stdout",
     "output_type": "stream",
     "text": [
      "\n",
      "Optimization finished!\n",
      "Evaluating: {'k': 20, 'lambda_reg': 0.001, 'learning_rate': 0.001}\n"
     ]
    },
    {
     "data": {
      "application/vnd.jupyter.widget-view+json": {
       "model_id": "a92ba9641bb84b03b88459a7d5652db2",
       "version_major": 2,
       "version_minor": 0
      },
      "text/plain": [
       "HBox(children=(FloatProgress(value=0.0, max=50.0), HTML(value='')))"
      ]
     },
     "metadata": {},
     "output_type": "display_data"
    },
    {
     "name": "stdout",
     "output_type": "stream",
     "text": [
      "\n",
      "Optimization finished!\n",
      "Evaluating: {'k': 20, 'lambda_reg': 0.001, 'learning_rate': 0.01}\n"
     ]
    },
    {
     "data": {
      "application/vnd.jupyter.widget-view+json": {
       "model_id": "82facc3a10834183b0e240ab4f1c3431",
       "version_major": 2,
       "version_minor": 0
      },
      "text/plain": [
       "HBox(children=(FloatProgress(value=0.0, max=50.0), HTML(value='')))"
      ]
     },
     "metadata": {},
     "output_type": "display_data"
    },
    {
     "name": "stdout",
     "output_type": "stream",
     "text": [
      "\n",
      "Optimization finished!\n",
      "Evaluating: {'k': 20, 'lambda_reg': 0.001, 'learning_rate': 0.1}\n"
     ]
    },
    {
     "data": {
      "application/vnd.jupyter.widget-view+json": {
       "model_id": "3ba56d859792452a94ee82010a532031",
       "version_major": 2,
       "version_minor": 0
      },
      "text/plain": [
       "HBox(children=(FloatProgress(value=0.0, max=50.0), HTML(value='')))"
      ]
     },
     "metadata": {},
     "output_type": "display_data"
    },
    {
     "name": "stdout",
     "output_type": "stream",
     "text": [
      "\n",
      "Optimization finished!\n",
      "Evaluating: {'k': 20, 'lambda_reg': 0.01, 'learning_rate': 0.0001}\n"
     ]
    },
    {
     "data": {
      "application/vnd.jupyter.widget-view+json": {
       "model_id": "28bd669b263f426498fb8403e5299ae9",
       "version_major": 2,
       "version_minor": 0
      },
      "text/plain": [
       "HBox(children=(FloatProgress(value=0.0, max=50.0), HTML(value='')))"
      ]
     },
     "metadata": {},
     "output_type": "display_data"
    },
    {
     "name": "stdout",
     "output_type": "stream",
     "text": [
      "\n",
      "Optimization finished!\n",
      "Evaluating: {'k': 20, 'lambda_reg': 0.01, 'learning_rate': 0.001}\n"
     ]
    },
    {
     "data": {
      "application/vnd.jupyter.widget-view+json": {
       "model_id": "4565f2e8cbd640b5bbc0f24af414d4a6",
       "version_major": 2,
       "version_minor": 0
      },
      "text/plain": [
       "HBox(children=(FloatProgress(value=0.0, max=50.0), HTML(value='')))"
      ]
     },
     "metadata": {},
     "output_type": "display_data"
    },
    {
     "name": "stdout",
     "output_type": "stream",
     "text": [
      "\n",
      "Optimization finished!\n",
      "Evaluating: {'k': 20, 'lambda_reg': 0.01, 'learning_rate': 0.01}\n"
     ]
    },
    {
     "data": {
      "application/vnd.jupyter.widget-view+json": {
       "model_id": "c215b18514d54faf887563d18433ef21",
       "version_major": 2,
       "version_minor": 0
      },
      "text/plain": [
       "HBox(children=(FloatProgress(value=0.0, max=50.0), HTML(value='')))"
      ]
     },
     "metadata": {},
     "output_type": "display_data"
    },
    {
     "name": "stdout",
     "output_type": "stream",
     "text": [
      "\n",
      "Optimization finished!\n",
      "Evaluating: {'k': 20, 'lambda_reg': 0.01, 'learning_rate': 0.1}\n"
     ]
    },
    {
     "data": {
      "application/vnd.jupyter.widget-view+json": {
       "model_id": "61c52b217fe54a159bbeb150ad65d597",
       "version_major": 2,
       "version_minor": 0
      },
      "text/plain": [
       "HBox(children=(FloatProgress(value=0.0, max=50.0), HTML(value='')))"
      ]
     },
     "metadata": {},
     "output_type": "display_data"
    },
    {
     "name": "stdout",
     "output_type": "stream",
     "text": [
      "\n",
      "Optimization finished!\n",
      "Evaluating: {'k': 20, 'lambda_reg': 0.1, 'learning_rate': 0.0001}\n"
     ]
    },
    {
     "data": {
      "application/vnd.jupyter.widget-view+json": {
       "model_id": "7127bf2bbf7b4c8aa45a65c04617f476",
       "version_major": 2,
       "version_minor": 0
      },
      "text/plain": [
       "HBox(children=(FloatProgress(value=0.0, max=50.0), HTML(value='')))"
      ]
     },
     "metadata": {},
     "output_type": "display_data"
    },
    {
     "name": "stdout",
     "output_type": "stream",
     "text": [
      "\n",
      "Optimization finished!\n",
      "Evaluating: {'k': 20, 'lambda_reg': 0.1, 'learning_rate': 0.001}\n"
     ]
    },
    {
     "data": {
      "application/vnd.jupyter.widget-view+json": {
       "model_id": "4e72733d05464a129afd499c35795d3a",
       "version_major": 2,
       "version_minor": 0
      },
      "text/plain": [
       "HBox(children=(FloatProgress(value=0.0, max=50.0), HTML(value='')))"
      ]
     },
     "metadata": {},
     "output_type": "display_data"
    },
    {
     "name": "stdout",
     "output_type": "stream",
     "text": [
      "\n",
      "Optimization finished!\n",
      "Evaluating: {'k': 20, 'lambda_reg': 0.1, 'learning_rate': 0.01}\n"
     ]
    },
    {
     "data": {
      "application/vnd.jupyter.widget-view+json": {
       "model_id": "5d18f2f69d7a49eeaa6c7d9baf79f37f",
       "version_major": 2,
       "version_minor": 0
      },
      "text/plain": [
       "HBox(children=(FloatProgress(value=0.0, max=50.0), HTML(value='')))"
      ]
     },
     "metadata": {},
     "output_type": "display_data"
    },
    {
     "name": "stdout",
     "output_type": "stream",
     "text": [
      "\n",
      "Optimization finished!\n",
      "Evaluating: {'k': 20, 'lambda_reg': 0.1, 'learning_rate': 0.1}\n"
     ]
    },
    {
     "data": {
      "application/vnd.jupyter.widget-view+json": {
       "model_id": "f9bad0390a864ccd9a0bdf3e1071f34a",
       "version_major": 2,
       "version_minor": 0
      },
      "text/plain": [
       "HBox(children=(FloatProgress(value=0.0, max=50.0), HTML(value='')))"
      ]
     },
     "metadata": {},
     "output_type": "display_data"
    },
    {
     "name": "stdout",
     "output_type": "stream",
     "text": [
      "\n",
      "Optimization finished!\n",
      "Evaluating: {'k': 25, 'lambda_reg': 0.0001, 'learning_rate': 0.0001}\n"
     ]
    },
    {
     "data": {
      "application/vnd.jupyter.widget-view+json": {
       "model_id": "15cc3c8fc97e4129b6de9f1a597bb59e",
       "version_major": 2,
       "version_minor": 0
      },
      "text/plain": [
       "HBox(children=(FloatProgress(value=0.0, max=50.0), HTML(value='')))"
      ]
     },
     "metadata": {},
     "output_type": "display_data"
    },
    {
     "name": "stdout",
     "output_type": "stream",
     "text": [
      "\n",
      "Optimization finished!\n",
      "Evaluating: {'k': 25, 'lambda_reg': 0.0001, 'learning_rate': 0.001}\n"
     ]
    },
    {
     "data": {
      "application/vnd.jupyter.widget-view+json": {
       "model_id": "e28dae92dd7e4d2f99d333f821558ea5",
       "version_major": 2,
       "version_minor": 0
      },
      "text/plain": [
       "HBox(children=(FloatProgress(value=0.0, max=50.0), HTML(value='')))"
      ]
     },
     "metadata": {},
     "output_type": "display_data"
    },
    {
     "name": "stdout",
     "output_type": "stream",
     "text": [
      "\n",
      "Optimization finished!\n",
      "Evaluating: {'k': 25, 'lambda_reg': 0.0001, 'learning_rate': 0.01}\n"
     ]
    },
    {
     "data": {
      "application/vnd.jupyter.widget-view+json": {
       "model_id": "62e97d4a466a426b8b9d58192f69b952",
       "version_major": 2,
       "version_minor": 0
      },
      "text/plain": [
       "HBox(children=(FloatProgress(value=0.0, max=50.0), HTML(value='')))"
      ]
     },
     "metadata": {},
     "output_type": "display_data"
    },
    {
     "name": "stdout",
     "output_type": "stream",
     "text": [
      "\n",
      "Optimization finished!\n",
      "Evaluating: {'k': 25, 'lambda_reg': 0.0001, 'learning_rate': 0.1}\n"
     ]
    },
    {
     "data": {
      "application/vnd.jupyter.widget-view+json": {
       "model_id": "3caa6e7c17654df3b66c3ecf584a9448",
       "version_major": 2,
       "version_minor": 0
      },
      "text/plain": [
       "HBox(children=(FloatProgress(value=0.0, max=50.0), HTML(value='')))"
      ]
     },
     "metadata": {},
     "output_type": "display_data"
    },
    {
     "name": "stdout",
     "output_type": "stream",
     "text": [
      "\n",
      "Optimization finished!\n",
      "Evaluating: {'k': 25, 'lambda_reg': 0.001, 'learning_rate': 0.0001}\n"
     ]
    },
    {
     "data": {
      "application/vnd.jupyter.widget-view+json": {
       "model_id": "23b63d8a10c44a6694a15e95224f7820",
       "version_major": 2,
       "version_minor": 0
      },
      "text/plain": [
       "HBox(children=(FloatProgress(value=0.0, max=50.0), HTML(value='')))"
      ]
     },
     "metadata": {},
     "output_type": "display_data"
    },
    {
     "name": "stdout",
     "output_type": "stream",
     "text": [
      "\n",
      "Optimization finished!\n",
      "Evaluating: {'k': 25, 'lambda_reg': 0.001, 'learning_rate': 0.001}\n"
     ]
    },
    {
     "data": {
      "application/vnd.jupyter.widget-view+json": {
       "model_id": "50eb33bf979a4f079dd0e52262885739",
       "version_major": 2,
       "version_minor": 0
      },
      "text/plain": [
       "HBox(children=(FloatProgress(value=0.0, max=50.0), HTML(value='')))"
      ]
     },
     "metadata": {},
     "output_type": "display_data"
    },
    {
     "name": "stdout",
     "output_type": "stream",
     "text": [
      "\n",
      "Optimization finished!\n",
      "Evaluating: {'k': 25, 'lambda_reg': 0.001, 'learning_rate': 0.01}\n"
     ]
    },
    {
     "data": {
      "application/vnd.jupyter.widget-view+json": {
       "model_id": "7172ff4f456b4b7a802d161b9b1f412a",
       "version_major": 2,
       "version_minor": 0
      },
      "text/plain": [
       "HBox(children=(FloatProgress(value=0.0, max=50.0), HTML(value='')))"
      ]
     },
     "metadata": {},
     "output_type": "display_data"
    },
    {
     "name": "stdout",
     "output_type": "stream",
     "text": [
      "\n",
      "Optimization finished!\n",
      "Evaluating: {'k': 25, 'lambda_reg': 0.001, 'learning_rate': 0.1}\n"
     ]
    },
    {
     "data": {
      "application/vnd.jupyter.widget-view+json": {
       "model_id": "a0016fa2f96a4df9947a0c95e6afdb88",
       "version_major": 2,
       "version_minor": 0
      },
      "text/plain": [
       "HBox(children=(FloatProgress(value=0.0, max=50.0), HTML(value='')))"
      ]
     },
     "metadata": {},
     "output_type": "display_data"
    },
    {
     "name": "stdout",
     "output_type": "stream",
     "text": [
      "\n",
      "Optimization finished!\n",
      "Evaluating: {'k': 25, 'lambda_reg': 0.01, 'learning_rate': 0.0001}\n"
     ]
    },
    {
     "data": {
      "application/vnd.jupyter.widget-view+json": {
       "model_id": "a8a44bef62dc45b282c10b447b20b17c",
       "version_major": 2,
       "version_minor": 0
      },
      "text/plain": [
       "HBox(children=(FloatProgress(value=0.0, max=50.0), HTML(value='')))"
      ]
     },
     "metadata": {},
     "output_type": "display_data"
    },
    {
     "name": "stdout",
     "output_type": "stream",
     "text": [
      "\n",
      "Optimization finished!\n",
      "Evaluating: {'k': 25, 'lambda_reg': 0.01, 'learning_rate': 0.001}\n"
     ]
    },
    {
     "data": {
      "application/vnd.jupyter.widget-view+json": {
       "model_id": "ae59734ca5a64670963271ceca671d07",
       "version_major": 2,
       "version_minor": 0
      },
      "text/plain": [
       "HBox(children=(FloatProgress(value=0.0, max=50.0), HTML(value='')))"
      ]
     },
     "metadata": {},
     "output_type": "display_data"
    },
    {
     "name": "stdout",
     "output_type": "stream",
     "text": [
      "\n",
      "Optimization finished!\n",
      "Evaluating: {'k': 25, 'lambda_reg': 0.01, 'learning_rate': 0.01}\n"
     ]
    },
    {
     "data": {
      "application/vnd.jupyter.widget-view+json": {
       "model_id": "1b05d42f821349f1940e45561d175b52",
       "version_major": 2,
       "version_minor": 0
      },
      "text/plain": [
       "HBox(children=(FloatProgress(value=0.0, max=50.0), HTML(value='')))"
      ]
     },
     "metadata": {},
     "output_type": "display_data"
    },
    {
     "name": "stdout",
     "output_type": "stream",
     "text": [
      "\n",
      "Optimization finished!\n",
      "Evaluating: {'k': 25, 'lambda_reg': 0.01, 'learning_rate': 0.1}\n"
     ]
    },
    {
     "data": {
      "application/vnd.jupyter.widget-view+json": {
       "model_id": "4d8f68566975495f9bdbd5003764a771",
       "version_major": 2,
       "version_minor": 0
      },
      "text/plain": [
       "HBox(children=(FloatProgress(value=0.0, max=50.0), HTML(value='')))"
      ]
     },
     "metadata": {},
     "output_type": "display_data"
    },
    {
     "name": "stdout",
     "output_type": "stream",
     "text": [
      "\n",
      "Optimization finished!\n",
      "Evaluating: {'k': 25, 'lambda_reg': 0.1, 'learning_rate': 0.0001}\n"
     ]
    },
    {
     "data": {
      "application/vnd.jupyter.widget-view+json": {
       "model_id": "0bc07973ec2a4ff098f2e12ca9cf4ee6",
       "version_major": 2,
       "version_minor": 0
      },
      "text/plain": [
       "HBox(children=(FloatProgress(value=0.0, max=50.0), HTML(value='')))"
      ]
     },
     "metadata": {},
     "output_type": "display_data"
    },
    {
     "name": "stdout",
     "output_type": "stream",
     "text": [
      "\n",
      "Optimization finished!\n",
      "Evaluating: {'k': 25, 'lambda_reg': 0.1, 'learning_rate': 0.001}\n"
     ]
    },
    {
     "data": {
      "application/vnd.jupyter.widget-view+json": {
       "model_id": "76d9838b1be84f258e5e3b7de7afc74c",
       "version_major": 2,
       "version_minor": 0
      },
      "text/plain": [
       "HBox(children=(FloatProgress(value=0.0, max=50.0), HTML(value='')))"
      ]
     },
     "metadata": {},
     "output_type": "display_data"
    },
    {
     "name": "stdout",
     "output_type": "stream",
     "text": [
      "\n",
      "Optimization finished!\n",
      "Evaluating: {'k': 25, 'lambda_reg': 0.1, 'learning_rate': 0.01}\n"
     ]
    },
    {
     "data": {
      "application/vnd.jupyter.widget-view+json": {
       "model_id": "7a812552654b4f59be4cd5fded47223f",
       "version_major": 2,
       "version_minor": 0
      },
      "text/plain": [
       "HBox(children=(FloatProgress(value=0.0, max=50.0), HTML(value='')))"
      ]
     },
     "metadata": {},
     "output_type": "display_data"
    },
    {
     "name": "stdout",
     "output_type": "stream",
     "text": [
      "\n",
      "Optimization finished!\n",
      "Evaluating: {'k': 25, 'lambda_reg': 0.1, 'learning_rate': 0.1}\n"
     ]
    },
    {
     "data": {
      "application/vnd.jupyter.widget-view+json": {
       "model_id": "77f54b6bf5464de5b48126c361d1c395",
       "version_major": 2,
       "version_minor": 0
      },
      "text/plain": [
       "HBox(children=(FloatProgress(value=0.0, max=50.0), HTML(value='')))"
      ]
     },
     "metadata": {},
     "output_type": "display_data"
    },
    {
     "name": "stdout",
     "output_type": "stream",
     "text": [
      "\n",
      "Optimization finished!\n",
      "Evaluating: {'k': 30, 'lambda_reg': 0.0001, 'learning_rate': 0.0001}\n"
     ]
    },
    {
     "data": {
      "application/vnd.jupyter.widget-view+json": {
       "model_id": "cc23bcccc9ac4120a46ffe9f87dcbd9c",
       "version_major": 2,
       "version_minor": 0
      },
      "text/plain": [
       "HBox(children=(FloatProgress(value=0.0, max=50.0), HTML(value='')))"
      ]
     },
     "metadata": {},
     "output_type": "display_data"
    },
    {
     "name": "stdout",
     "output_type": "stream",
     "text": [
      "\n",
      "Optimization finished!\n",
      "Evaluating: {'k': 30, 'lambda_reg': 0.0001, 'learning_rate': 0.001}\n"
     ]
    },
    {
     "data": {
      "application/vnd.jupyter.widget-view+json": {
       "model_id": "7e97811387bc44caa631f35d439173a6",
       "version_major": 2,
       "version_minor": 0
      },
      "text/plain": [
       "HBox(children=(FloatProgress(value=0.0, max=50.0), HTML(value='')))"
      ]
     },
     "metadata": {},
     "output_type": "display_data"
    },
    {
     "name": "stdout",
     "output_type": "stream",
     "text": [
      "\n",
      "Optimization finished!\n",
      "Evaluating: {'k': 30, 'lambda_reg': 0.0001, 'learning_rate': 0.01}\n"
     ]
    },
    {
     "data": {
      "application/vnd.jupyter.widget-view+json": {
       "model_id": "6b2961b6aa814c188cc83c5522506cf3",
       "version_major": 2,
       "version_minor": 0
      },
      "text/plain": [
       "HBox(children=(FloatProgress(value=0.0, max=50.0), HTML(value='')))"
      ]
     },
     "metadata": {},
     "output_type": "display_data"
    },
    {
     "name": "stdout",
     "output_type": "stream",
     "text": [
      "\n",
      "Optimization finished!\n",
      "Evaluating: {'k': 30, 'lambda_reg': 0.0001, 'learning_rate': 0.1}\n"
     ]
    },
    {
     "data": {
      "application/vnd.jupyter.widget-view+json": {
       "model_id": "5b7ea70a87594faa9f5e00b260af0d66",
       "version_major": 2,
       "version_minor": 0
      },
      "text/plain": [
       "HBox(children=(FloatProgress(value=0.0, max=50.0), HTML(value='')))"
      ]
     },
     "metadata": {},
     "output_type": "display_data"
    },
    {
     "name": "stdout",
     "output_type": "stream",
     "text": [
      "\n",
      "Optimization finished!\n",
      "Evaluating: {'k': 30, 'lambda_reg': 0.001, 'learning_rate': 0.0001}\n"
     ]
    },
    {
     "data": {
      "application/vnd.jupyter.widget-view+json": {
       "model_id": "9d37856492d1430689cb836575515af2",
       "version_major": 2,
       "version_minor": 0
      },
      "text/plain": [
       "HBox(children=(FloatProgress(value=0.0, max=50.0), HTML(value='')))"
      ]
     },
     "metadata": {},
     "output_type": "display_data"
    },
    {
     "name": "stdout",
     "output_type": "stream",
     "text": [
      "\n",
      "Optimization finished!\n",
      "Evaluating: {'k': 30, 'lambda_reg': 0.001, 'learning_rate': 0.001}\n"
     ]
    },
    {
     "data": {
      "application/vnd.jupyter.widget-view+json": {
       "model_id": "6ab8ecbb1598478aab080ec9fe1040a2",
       "version_major": 2,
       "version_minor": 0
      },
      "text/plain": [
       "HBox(children=(FloatProgress(value=0.0, max=50.0), HTML(value='')))"
      ]
     },
     "metadata": {},
     "output_type": "display_data"
    },
    {
     "name": "stdout",
     "output_type": "stream",
     "text": [
      "\n",
      "Optimization finished!\n",
      "Evaluating: {'k': 30, 'lambda_reg': 0.001, 'learning_rate': 0.01}\n"
     ]
    },
    {
     "data": {
      "application/vnd.jupyter.widget-view+json": {
       "model_id": "fec62c9d69dd4801b1f655d21bd44677",
       "version_major": 2,
       "version_minor": 0
      },
      "text/plain": [
       "HBox(children=(FloatProgress(value=0.0, max=50.0), HTML(value='')))"
      ]
     },
     "metadata": {},
     "output_type": "display_data"
    },
    {
     "name": "stdout",
     "output_type": "stream",
     "text": [
      "\n",
      "Optimization finished!\n",
      "Evaluating: {'k': 30, 'lambda_reg': 0.001, 'learning_rate': 0.1}\n"
     ]
    },
    {
     "data": {
      "application/vnd.jupyter.widget-view+json": {
       "model_id": "c995d50e99214b51b1de23f12bd04277",
       "version_major": 2,
       "version_minor": 0
      },
      "text/plain": [
       "HBox(children=(FloatProgress(value=0.0, max=50.0), HTML(value='')))"
      ]
     },
     "metadata": {},
     "output_type": "display_data"
    },
    {
     "name": "stdout",
     "output_type": "stream",
     "text": [
      "\n",
      "Optimization finished!\n",
      "Evaluating: {'k': 30, 'lambda_reg': 0.01, 'learning_rate': 0.0001}\n"
     ]
    },
    {
     "data": {
      "application/vnd.jupyter.widget-view+json": {
       "model_id": "eebc0043ec3a4175b874f78349739d1d",
       "version_major": 2,
       "version_minor": 0
      },
      "text/plain": [
       "HBox(children=(FloatProgress(value=0.0, max=50.0), HTML(value='')))"
      ]
     },
     "metadata": {},
     "output_type": "display_data"
    },
    {
     "name": "stdout",
     "output_type": "stream",
     "text": [
      "\n",
      "Optimization finished!\n",
      "Evaluating: {'k': 30, 'lambda_reg': 0.01, 'learning_rate': 0.001}\n"
     ]
    },
    {
     "data": {
      "application/vnd.jupyter.widget-view+json": {
       "model_id": "3d050633f80e4b7a8470399b2b497e0a",
       "version_major": 2,
       "version_minor": 0
      },
      "text/plain": [
       "HBox(children=(FloatProgress(value=0.0, max=50.0), HTML(value='')))"
      ]
     },
     "metadata": {},
     "output_type": "display_data"
    },
    {
     "name": "stdout",
     "output_type": "stream",
     "text": [
      "\n",
      "Optimization finished!\n",
      "Evaluating: {'k': 30, 'lambda_reg': 0.01, 'learning_rate': 0.01}\n"
     ]
    },
    {
     "data": {
      "application/vnd.jupyter.widget-view+json": {
       "model_id": "e4ffb763eb4b4488b72aac13a3cb2020",
       "version_major": 2,
       "version_minor": 0
      },
      "text/plain": [
       "HBox(children=(FloatProgress(value=0.0, max=50.0), HTML(value='')))"
      ]
     },
     "metadata": {},
     "output_type": "display_data"
    },
    {
     "name": "stdout",
     "output_type": "stream",
     "text": [
      "\n",
      "Optimization finished!\n",
      "Evaluating: {'k': 30, 'lambda_reg': 0.01, 'learning_rate': 0.1}\n"
     ]
    },
    {
     "data": {
      "application/vnd.jupyter.widget-view+json": {
       "model_id": "bfeab8e8a53849819c72fc2d9892ba59",
       "version_major": 2,
       "version_minor": 0
      },
      "text/plain": [
       "HBox(children=(FloatProgress(value=0.0, max=50.0), HTML(value='')))"
      ]
     },
     "metadata": {},
     "output_type": "display_data"
    },
    {
     "name": "stdout",
     "output_type": "stream",
     "text": [
      "\n",
      "Optimization finished!\n",
      "Evaluating: {'k': 30, 'lambda_reg': 0.1, 'learning_rate': 0.0001}\n"
     ]
    },
    {
     "data": {
      "application/vnd.jupyter.widget-view+json": {
       "model_id": "c2bde2d5a5df4b30bdd0e01879173f99",
       "version_major": 2,
       "version_minor": 0
      },
      "text/plain": [
       "HBox(children=(FloatProgress(value=0.0, max=50.0), HTML(value='')))"
      ]
     },
     "metadata": {},
     "output_type": "display_data"
    },
    {
     "name": "stdout",
     "output_type": "stream",
     "text": [
      "\n",
      "Optimization finished!\n",
      "Evaluating: {'k': 30, 'lambda_reg': 0.1, 'learning_rate': 0.001}\n"
     ]
    },
    {
     "data": {
      "application/vnd.jupyter.widget-view+json": {
       "model_id": "a78d2196841444e68d665269cc7d7f76",
       "version_major": 2,
       "version_minor": 0
      },
      "text/plain": [
       "HBox(children=(FloatProgress(value=0.0, max=50.0), HTML(value='')))"
      ]
     },
     "metadata": {},
     "output_type": "display_data"
    },
    {
     "name": "stdout",
     "output_type": "stream",
     "text": [
      "\n",
      "Optimization finished!\n",
      "Evaluating: {'k': 30, 'lambda_reg': 0.1, 'learning_rate': 0.01}\n"
     ]
    },
    {
     "data": {
      "application/vnd.jupyter.widget-view+json": {
       "model_id": "ad4bf7ae10404abdb0b55ecdb3225c3d",
       "version_major": 2,
       "version_minor": 0
      },
      "text/plain": [
       "HBox(children=(FloatProgress(value=0.0, max=50.0), HTML(value='')))"
      ]
     },
     "metadata": {},
     "output_type": "display_data"
    },
    {
     "name": "stdout",
     "output_type": "stream",
     "text": [
      "\n",
      "Optimization finished!\n",
      "Evaluating: {'k': 30, 'lambda_reg': 0.1, 'learning_rate': 0.1}\n"
     ]
    },
    {
     "data": {
      "application/vnd.jupyter.widget-view+json": {
       "model_id": "50006eb054fb4963870163334007f272",
       "version_major": 2,
       "version_minor": 0
      },
      "text/plain": [
       "HBox(children=(FloatProgress(value=0.0, max=50.0), HTML(value='')))"
      ]
     },
     "metadata": {},
     "output_type": "display_data"
    },
    {
     "name": "stdout",
     "output_type": "stream",
     "text": [
      "\n",
      "Optimization finished!\n",
      "Best parameter settings: {'k': 30, 'lambda_reg': 0.0001, 'learning_rate': 0.001}\n",
      "RMSE = 1.7697\n",
      "\n",
      "VALIDATION:\n",
      "...\n",
      "               |   RMSE | Time (s)\n",
      "-------------- + ------ + --------\n",
      "GridSearch_SVD | 1.7697 |   0.3220\n",
      "\n",
      "TEST:\n",
      "...\n",
      "               |   RMSE | Train (s) | Test (s)\n",
      "-------------- + ------ + --------- + --------\n",
      "GridSearch_SVD | 1.7805 |   96.1142 |   0.3438\n",
      "\n"
     ]
    }
   ],
   "source": [
    "#%% gGrid search\n",
    "from cornac.hyperopt import Discrete, Continuous\n",
    "from cornac.hyperopt import GridSearch\n",
    "\n",
    "ratio_split  = RatioSplit(data=pharma2, test_size=0.1, val_size = 0.1, rating_threshold=1.5, seed=123)\n",
    "\n",
    "#SVD \n",
    "svd = cornac.models.SVD(\n",
    "    k=15, max_iter=50, learning_rate=0.01, lambda_reg=0.02, verbose=True\n",
    ")\n",
    "\n",
    "rmse = cornac.metrics.RMSE()\n",
    "\n",
    "gs = GridSearch(\n",
    "    model=svd,\n",
    "    space=[\n",
    "        Discrete(\"k\", [5, 10, 15, 20, 25, 30]),\n",
    "        Discrete(\"learning_rate\", [1e-1, 1e-2, 1e-3, 1e-4]),\n",
    "        Discrete(\"lambda_reg\", [1e-1, 1e-2, 1e-3, 1e-4]),\n",
    "    ],\n",
    "    metric=rmse,\n",
    "    eval_method=ratio_split\n",
    ")\n",
    "\n",
    "cornac.Experiment(\n",
    "    eval_method=ratio_split,\n",
    "    models=[gs],\n",
    "    metrics=[rmse],\n",
    "    user_based=False\n",
    ").run()\n"
   ]
  },
  {
   "cell_type": "markdown",
   "id": "4349b10d",
   "metadata": {},
   "source": [
    "Οι καλύτερες παράμετροι είναι: \n",
    "k = 25, lambda_reg = 0.001, learning_rate = 0.001"
   ]
  },
  {
   "cell_type": "markdown",
   "id": "5674aabd",
   "metadata": {},
   "source": [
    "## Αλγόριθμος UserKNN με εύρεση βέλτιστων παραμέτρων με grid search"
   ]
  },
  {
   "cell_type": "code",
   "execution_count": 5,
   "id": "39bb6a3e",
   "metadata": {},
   "outputs": [
    {
     "name": "stdout",
     "output_type": "stream",
     "text": [
      "Evaluating: {'k': 5}\n"
     ]
    },
    {
     "data": {
      "application/vnd.jupyter.widget-view+json": {
       "model_id": "53362642c8d048b18f322312bdd38a73",
       "version_major": 2,
       "version_minor": 0
      },
      "text/plain": [
       "HBox(children=(FloatProgress(value=0.0, max=2351.0), HTML(value='')))"
      ]
     },
     "metadata": {},
     "output_type": "display_data"
    },
    {
     "name": "stdout",
     "output_type": "stream",
     "text": [
      "\n",
      "Evaluating: {'k': 10}\n"
     ]
    },
    {
     "data": {
      "application/vnd.jupyter.widget-view+json": {
       "model_id": "c8a18bd414264986bec1c5a8641478bc",
       "version_major": 2,
       "version_minor": 0
      },
      "text/plain": [
       "HBox(children=(FloatProgress(value=0.0, max=2351.0), HTML(value='')))"
      ]
     },
     "metadata": {},
     "output_type": "display_data"
    },
    {
     "name": "stdout",
     "output_type": "stream",
     "text": [
      "\n",
      "Evaluating: {'k': 15}\n"
     ]
    },
    {
     "data": {
      "application/vnd.jupyter.widget-view+json": {
       "model_id": "c9f3de0c639e4626b306ca10ba155082",
       "version_major": 2,
       "version_minor": 0
      },
      "text/plain": [
       "HBox(children=(FloatProgress(value=0.0, max=2351.0), HTML(value='')))"
      ]
     },
     "metadata": {},
     "output_type": "display_data"
    },
    {
     "name": "stdout",
     "output_type": "stream",
     "text": [
      "\n",
      "Evaluating: {'k': 20}\n"
     ]
    },
    {
     "data": {
      "application/vnd.jupyter.widget-view+json": {
       "model_id": "bb23c67f7174447288d067630b3abf35",
       "version_major": 2,
       "version_minor": 0
      },
      "text/plain": [
       "HBox(children=(FloatProgress(value=0.0, max=2351.0), HTML(value='')))"
      ]
     },
     "metadata": {},
     "output_type": "display_data"
    },
    {
     "name": "stdout",
     "output_type": "stream",
     "text": [
      "\n",
      "Evaluating: {'k': 25}\n"
     ]
    },
    {
     "data": {
      "application/vnd.jupyter.widget-view+json": {
       "model_id": "e7d480a23f7349de8216261bd7919738",
       "version_major": 2,
       "version_minor": 0
      },
      "text/plain": [
       "HBox(children=(FloatProgress(value=0.0, max=2351.0), HTML(value='')))"
      ]
     },
     "metadata": {},
     "output_type": "display_data"
    },
    {
     "name": "stdout",
     "output_type": "stream",
     "text": [
      "\n",
      "Evaluating: {'k': 30}\n"
     ]
    },
    {
     "data": {
      "application/vnd.jupyter.widget-view+json": {
       "model_id": "be2510a0b1954e58ad81685f8495672b",
       "version_major": 2,
       "version_minor": 0
      },
      "text/plain": [
       "HBox(children=(FloatProgress(value=0.0, max=2351.0), HTML(value='')))"
      ]
     },
     "metadata": {},
     "output_type": "display_data"
    },
    {
     "name": "stdout",
     "output_type": "stream",
     "text": [
      "\n",
      "Best parameter settings: {'k': 30}\n",
      "RMSE = 1.8270\n",
      "\n",
      "VALIDATION:\n",
      "...\n",
      "                           |   RMSE | Time (s)\n",
      "-------------------------- + ------ + --------\n",
      "GridSearch_UserKNN-Pearson | 1.8270 |   2.4301\n",
      "\n",
      "TEST:\n",
      "...\n",
      "                           |   RMSE | Train (s) | Test (s)\n",
      "-------------------------- + ------ + --------- + --------\n",
      "GridSearch_UserKNN-Pearson | 1.8444 |   19.4483 |   2.5480\n",
      "\n"
     ]
    }
   ],
   "source": [
    "#UserKNN\n",
    "user_knn_pearson = cornac.models.UserKNN(\n",
    "    k=25, similarity=\"pearson\", name=\"UserKNN-Pearson\"\n",
    ")\n",
    "gs = GridSearch(\n",
    "    model=user_knn_pearson,\n",
    "    space=[\n",
    "        Discrete(\"k\", [5, 10, 15, 20, 25, 30])\n",
    "    ],\n",
    "    metric=rmse,\n",
    "    eval_method=ratio_split\n",
    ")\n",
    "\n",
    "cornac.Experiment(\n",
    "    eval_method=ratio_split,\n",
    "    models=[gs],\n",
    "    metrics=[rmse],\n",
    "    user_based=False\n",
    ").run()"
   ]
  },
  {
   "cell_type": "markdown",
   "id": "ba2456bc",
   "metadata": {},
   "source": [
    "Καλύτερη παράμετρος: K = 40"
   ]
  },
  {
   "cell_type": "markdown",
   "id": "5a9f638f",
   "metadata": {},
   "source": [
    "## Αλγόριθμος ItemKNN με εύρεση βέλτιστων παραμέτρων με grid search"
   ]
  },
  {
   "cell_type": "code",
   "execution_count": 6,
   "id": "ee3eddcd",
   "metadata": {},
   "outputs": [
    {
     "name": "stdout",
     "output_type": "stream",
     "text": [
      "Evaluating: {'k': 5}\n"
     ]
    },
    {
     "data": {
      "application/vnd.jupyter.widget-view+json": {
       "model_id": "f73f45d1b81348418cbea3c226bce5c2",
       "version_major": 2,
       "version_minor": 0
      },
      "text/plain": [
       "HBox(children=(FloatProgress(value=0.0, max=2877.0), HTML(value='')))"
      ]
     },
     "metadata": {},
     "output_type": "display_data"
    },
    {
     "name": "stdout",
     "output_type": "stream",
     "text": [
      "\n",
      "Evaluating: {'k': 10}\n"
     ]
    },
    {
     "data": {
      "application/vnd.jupyter.widget-view+json": {
       "model_id": "63545400f18349d6b32d087b4b95429e",
       "version_major": 2,
       "version_minor": 0
      },
      "text/plain": [
       "HBox(children=(FloatProgress(value=0.0, max=2877.0), HTML(value='')))"
      ]
     },
     "metadata": {},
     "output_type": "display_data"
    },
    {
     "name": "stdout",
     "output_type": "stream",
     "text": [
      "\n",
      "Evaluating: {'k': 15}\n"
     ]
    },
    {
     "data": {
      "application/vnd.jupyter.widget-view+json": {
       "model_id": "1f46718954b24dffb08a7dc24efb6230",
       "version_major": 2,
       "version_minor": 0
      },
      "text/plain": [
       "HBox(children=(FloatProgress(value=0.0, max=2877.0), HTML(value='')))"
      ]
     },
     "metadata": {},
     "output_type": "display_data"
    },
    {
     "name": "stdout",
     "output_type": "stream",
     "text": [
      "\n",
      "Evaluating: {'k': 20}\n"
     ]
    },
    {
     "data": {
      "application/vnd.jupyter.widget-view+json": {
       "model_id": "3e99d44d9f464fcc808e00426c981108",
       "version_major": 2,
       "version_minor": 0
      },
      "text/plain": [
       "HBox(children=(FloatProgress(value=0.0, max=2877.0), HTML(value='')))"
      ]
     },
     "metadata": {},
     "output_type": "display_data"
    },
    {
     "name": "stdout",
     "output_type": "stream",
     "text": [
      "\n",
      "Evaluating: {'k': 25}\n"
     ]
    },
    {
     "data": {
      "application/vnd.jupyter.widget-view+json": {
       "model_id": "0a916741230e481cb3fc25813a820db1",
       "version_major": 2,
       "version_minor": 0
      },
      "text/plain": [
       "HBox(children=(FloatProgress(value=0.0, max=2877.0), HTML(value='')))"
      ]
     },
     "metadata": {},
     "output_type": "display_data"
    },
    {
     "name": "stdout",
     "output_type": "stream",
     "text": [
      "\n",
      "Evaluating: {'k': 30}\n"
     ]
    },
    {
     "data": {
      "application/vnd.jupyter.widget-view+json": {
       "model_id": "e5515e6714074a6da7dddbd81f29d070",
       "version_major": 2,
       "version_minor": 0
      },
      "text/plain": [
       "HBox(children=(FloatProgress(value=0.0, max=2877.0), HTML(value='')))"
      ]
     },
     "metadata": {},
     "output_type": "display_data"
    },
    {
     "name": "stdout",
     "output_type": "stream",
     "text": [
      "\n",
      "Evaluating: {'k': 35}\n"
     ]
    },
    {
     "data": {
      "application/vnd.jupyter.widget-view+json": {
       "model_id": "25b650ba92d843afa2b6748e0fa671cd",
       "version_major": 2,
       "version_minor": 0
      },
      "text/plain": [
       "HBox(children=(FloatProgress(value=0.0, max=2877.0), HTML(value='')))"
      ]
     },
     "metadata": {},
     "output_type": "display_data"
    },
    {
     "name": "stdout",
     "output_type": "stream",
     "text": [
      "\n",
      "Evaluating: {'k': 40}\n"
     ]
    },
    {
     "data": {
      "application/vnd.jupyter.widget-view+json": {
       "model_id": "3a4f0b4ff7ed486eae22801dd8958dd3",
       "version_major": 2,
       "version_minor": 0
      },
      "text/plain": [
       "HBox(children=(FloatProgress(value=0.0, max=2877.0), HTML(value='')))"
      ]
     },
     "metadata": {},
     "output_type": "display_data"
    },
    {
     "name": "stdout",
     "output_type": "stream",
     "text": [
      "\n",
      "Evaluating: {'k': 45}\n"
     ]
    },
    {
     "data": {
      "application/vnd.jupyter.widget-view+json": {
       "model_id": "456baaf8d4914b9dbe3d53e9b3e9f60a",
       "version_major": 2,
       "version_minor": 0
      },
      "text/plain": [
       "HBox(children=(FloatProgress(value=0.0, max=2877.0), HTML(value='')))"
      ]
     },
     "metadata": {},
     "output_type": "display_data"
    },
    {
     "name": "stdout",
     "output_type": "stream",
     "text": [
      "\n",
      "Evaluating: {'k': 50}\n"
     ]
    },
    {
     "data": {
      "application/vnd.jupyter.widget-view+json": {
       "model_id": "6f7994e756bf471d8d000fc9067f1d53",
       "version_major": 2,
       "version_minor": 0
      },
      "text/plain": [
       "HBox(children=(FloatProgress(value=0.0, max=2877.0), HTML(value='')))"
      ]
     },
     "metadata": {},
     "output_type": "display_data"
    },
    {
     "name": "stdout",
     "output_type": "stream",
     "text": [
      "\n",
      "Best parameter settings: {'k': 35}\n",
      "RMSE = 1.9848\n",
      "\n",
      "VALIDATION:\n",
      "...\n",
      "                           |   RMSE | Time (s)\n",
      "-------------------------- + ------ + --------\n",
      "GridSearch_ItemKNN-Pearson | 1.9848 |   3.2900\n",
      "\n",
      "TEST:\n",
      "...\n",
      "                           |   RMSE | Train (s) | Test (s)\n",
      "-------------------------- + ------ + --------- + --------\n",
      "GridSearch_ItemKNN-Pearson | 2.0190 |   30.4743 |   4.3820\n",
      "\n"
     ]
    }
   ],
   "source": [
    "#itemKnn\n",
    "item_knn_pearson = cornac.models.ItemKNN(\n",
    "    k=25, similarity=\"pearson\", name=\"ItemKNN-Pearson\"\n",
    ")\n",
    "gs = GridSearch(\n",
    "    model=item_knn_pearson,\n",
    "    space=[\n",
    "        Discrete(\"k\", [5, 10, 15, 20, 25, 30, 35, 40, 45, 50])\n",
    "    ],\n",
    "    metric=rmse,\n",
    "    eval_method=ratio_split\n",
    ")\n",
    "\n",
    "cornac.Experiment(\n",
    "    eval_method=ratio_split,\n",
    "    models=[gs],\n",
    "    metrics=[rmse],\n",
    "    user_based=False\n",
    ").run()"
   ]
  },
  {
   "cell_type": "markdown",
   "id": "35007bec",
   "metadata": {},
   "source": [
    "Βέλτιστη παράμετρος k=35"
   ]
  },
  {
   "cell_type": "markdown",
   "id": "957f3221",
   "metadata": {},
   "source": [
    "## Αλγόριθμος NMF με εύρεση βέλτιστων παραμέτρων με grid search"
   ]
  },
  {
   "cell_type": "code",
   "execution_count": 7,
   "id": "f7624fb8",
   "metadata": {},
   "outputs": [
    {
     "name": "stdout",
     "output_type": "stream",
     "text": [
      "Evaluating: {'k': 10, 'lambda_reg': 0.0001, 'learning_rate': 0.0001}\n"
     ]
    },
    {
     "data": {
      "application/vnd.jupyter.widget-view+json": {
       "model_id": "3b9dc849aba4473d86f310c53c8c0e46",
       "version_major": 2,
       "version_minor": 0
      },
      "text/plain": [
       "HBox(children=(FloatProgress(value=0.0, max=50.0), HTML(value='')))"
      ]
     },
     "metadata": {},
     "output_type": "display_data"
    },
    {
     "name": "stdout",
     "output_type": "stream",
     "text": [
      "\n",
      "Optimization finished!\n",
      "Evaluating: {'k': 10, 'lambda_reg': 0.0001, 'learning_rate': 0.001}\n"
     ]
    },
    {
     "data": {
      "application/vnd.jupyter.widget-view+json": {
       "model_id": "56c8045c7bf045619e7b05eb4dc48550",
       "version_major": 2,
       "version_minor": 0
      },
      "text/plain": [
       "HBox(children=(FloatProgress(value=0.0, max=50.0), HTML(value='')))"
      ]
     },
     "metadata": {},
     "output_type": "display_data"
    },
    {
     "name": "stdout",
     "output_type": "stream",
     "text": [
      "\n",
      "Optimization finished!\n",
      "Evaluating: {'k': 10, 'lambda_reg': 0.0001, 'learning_rate': 0.01}\n"
     ]
    },
    {
     "data": {
      "application/vnd.jupyter.widget-view+json": {
       "model_id": "6c0fed43f8154aedb5daeda95255350a",
       "version_major": 2,
       "version_minor": 0
      },
      "text/plain": [
       "HBox(children=(FloatProgress(value=0.0, max=50.0), HTML(value='')))"
      ]
     },
     "metadata": {},
     "output_type": "display_data"
    },
    {
     "name": "stdout",
     "output_type": "stream",
     "text": [
      "\n",
      "Optimization finished!\n",
      "Evaluating: {'k': 10, 'lambda_reg': 0.0001, 'learning_rate': 0.1}\n"
     ]
    },
    {
     "data": {
      "application/vnd.jupyter.widget-view+json": {
       "model_id": "9a8a35c48d844c92b7d4f825977501b3",
       "version_major": 2,
       "version_minor": 0
      },
      "text/plain": [
       "HBox(children=(FloatProgress(value=0.0, max=50.0), HTML(value='')))"
      ]
     },
     "metadata": {},
     "output_type": "display_data"
    },
    {
     "name": "stdout",
     "output_type": "stream",
     "text": [
      "\n",
      "Optimization finished!\n",
      "Evaluating: {'k': 10, 'lambda_reg': 0.001, 'learning_rate': 0.0001}\n"
     ]
    },
    {
     "data": {
      "application/vnd.jupyter.widget-view+json": {
       "model_id": "eabb8110a79b4d10af078a03c5fec29a",
       "version_major": 2,
       "version_minor": 0
      },
      "text/plain": [
       "HBox(children=(FloatProgress(value=0.0, max=50.0), HTML(value='')))"
      ]
     },
     "metadata": {},
     "output_type": "display_data"
    },
    {
     "name": "stdout",
     "output_type": "stream",
     "text": [
      "\n",
      "Optimization finished!\n",
      "Evaluating: {'k': 10, 'lambda_reg': 0.001, 'learning_rate': 0.001}\n"
     ]
    },
    {
     "data": {
      "application/vnd.jupyter.widget-view+json": {
       "model_id": "a8b57853378e4423b225204dfb79f581",
       "version_major": 2,
       "version_minor": 0
      },
      "text/plain": [
       "HBox(children=(FloatProgress(value=0.0, max=50.0), HTML(value='')))"
      ]
     },
     "metadata": {},
     "output_type": "display_data"
    },
    {
     "name": "stdout",
     "output_type": "stream",
     "text": [
      "\n",
      "Optimization finished!\n",
      "Evaluating: {'k': 10, 'lambda_reg': 0.001, 'learning_rate': 0.01}\n"
     ]
    },
    {
     "data": {
      "application/vnd.jupyter.widget-view+json": {
       "model_id": "b1d0a7ad2f8d4e7f8a6bdb677217ff34",
       "version_major": 2,
       "version_minor": 0
      },
      "text/plain": [
       "HBox(children=(FloatProgress(value=0.0, max=50.0), HTML(value='')))"
      ]
     },
     "metadata": {},
     "output_type": "display_data"
    },
    {
     "name": "stdout",
     "output_type": "stream",
     "text": [
      "\n",
      "Optimization finished!\n",
      "Evaluating: {'k': 10, 'lambda_reg': 0.001, 'learning_rate': 0.1}\n"
     ]
    },
    {
     "data": {
      "application/vnd.jupyter.widget-view+json": {
       "model_id": "a4eb5d9e27a241eeb9faccd881fa8403",
       "version_major": 2,
       "version_minor": 0
      },
      "text/plain": [
       "HBox(children=(FloatProgress(value=0.0, max=50.0), HTML(value='')))"
      ]
     },
     "metadata": {},
     "output_type": "display_data"
    },
    {
     "name": "stdout",
     "output_type": "stream",
     "text": [
      "\n",
      "Optimization finished!\n",
      "Evaluating: {'k': 10, 'lambda_reg': 0.01, 'learning_rate': 0.0001}\n"
     ]
    },
    {
     "data": {
      "application/vnd.jupyter.widget-view+json": {
       "model_id": "2c7bcbf4c319471cbaac56997a73f624",
       "version_major": 2,
       "version_minor": 0
      },
      "text/plain": [
       "HBox(children=(FloatProgress(value=0.0, max=50.0), HTML(value='')))"
      ]
     },
     "metadata": {},
     "output_type": "display_data"
    },
    {
     "name": "stdout",
     "output_type": "stream",
     "text": [
      "\n",
      "Optimization finished!\n",
      "Evaluating: {'k': 10, 'lambda_reg': 0.01, 'learning_rate': 0.001}\n"
     ]
    },
    {
     "data": {
      "application/vnd.jupyter.widget-view+json": {
       "model_id": "3be9669aeb2e4b73a0d69707f6215e7e",
       "version_major": 2,
       "version_minor": 0
      },
      "text/plain": [
       "HBox(children=(FloatProgress(value=0.0, max=50.0), HTML(value='')))"
      ]
     },
     "metadata": {},
     "output_type": "display_data"
    },
    {
     "name": "stdout",
     "output_type": "stream",
     "text": [
      "\n",
      "Optimization finished!\n",
      "Evaluating: {'k': 10, 'lambda_reg': 0.01, 'learning_rate': 0.01}\n"
     ]
    },
    {
     "data": {
      "application/vnd.jupyter.widget-view+json": {
       "model_id": "11995ad1fe994b0aa4868ca3b598c4c6",
       "version_major": 2,
       "version_minor": 0
      },
      "text/plain": [
       "HBox(children=(FloatProgress(value=0.0, max=50.0), HTML(value='')))"
      ]
     },
     "metadata": {},
     "output_type": "display_data"
    },
    {
     "name": "stdout",
     "output_type": "stream",
     "text": [
      "\n",
      "Optimization finished!\n",
      "Evaluating: {'k': 10, 'lambda_reg': 0.01, 'learning_rate': 0.1}\n"
     ]
    },
    {
     "data": {
      "application/vnd.jupyter.widget-view+json": {
       "model_id": "0dc8e3794bc04423a5745d2e6e4752ab",
       "version_major": 2,
       "version_minor": 0
      },
      "text/plain": [
       "HBox(children=(FloatProgress(value=0.0, max=50.0), HTML(value='')))"
      ]
     },
     "metadata": {},
     "output_type": "display_data"
    },
    {
     "name": "stdout",
     "output_type": "stream",
     "text": [
      "\n",
      "Optimization finished!\n",
      "Evaluating: {'k': 10, 'lambda_reg': 0.1, 'learning_rate': 0.0001}\n"
     ]
    },
    {
     "data": {
      "application/vnd.jupyter.widget-view+json": {
       "model_id": "d5455b8677fb4fcc8e3b7d51435e18b1",
       "version_major": 2,
       "version_minor": 0
      },
      "text/plain": [
       "HBox(children=(FloatProgress(value=0.0, max=50.0), HTML(value='')))"
      ]
     },
     "metadata": {},
     "output_type": "display_data"
    },
    {
     "name": "stdout",
     "output_type": "stream",
     "text": [
      "\n",
      "Optimization finished!\n",
      "Evaluating: {'k': 10, 'lambda_reg': 0.1, 'learning_rate': 0.001}\n"
     ]
    },
    {
     "data": {
      "application/vnd.jupyter.widget-view+json": {
       "model_id": "701058ff02b7414b8ff320ac67a2c636",
       "version_major": 2,
       "version_minor": 0
      },
      "text/plain": [
       "HBox(children=(FloatProgress(value=0.0, max=50.0), HTML(value='')))"
      ]
     },
     "metadata": {},
     "output_type": "display_data"
    },
    {
     "name": "stdout",
     "output_type": "stream",
     "text": [
      "\n",
      "Optimization finished!\n",
      "Evaluating: {'k': 10, 'lambda_reg': 0.1, 'learning_rate': 0.01}\n"
     ]
    },
    {
     "data": {
      "application/vnd.jupyter.widget-view+json": {
       "model_id": "5d5facf153a04b3ba712ba15ed9658b2",
       "version_major": 2,
       "version_minor": 0
      },
      "text/plain": [
       "HBox(children=(FloatProgress(value=0.0, max=50.0), HTML(value='')))"
      ]
     },
     "metadata": {},
     "output_type": "display_data"
    },
    {
     "name": "stdout",
     "output_type": "stream",
     "text": [
      "\n",
      "Optimization finished!\n",
      "Evaluating: {'k': 10, 'lambda_reg': 0.1, 'learning_rate': 0.1}\n"
     ]
    },
    {
     "data": {
      "application/vnd.jupyter.widget-view+json": {
       "model_id": "65321ec2e33b4ab1ab21a290d77f71ac",
       "version_major": 2,
       "version_minor": 0
      },
      "text/plain": [
       "HBox(children=(FloatProgress(value=0.0, max=50.0), HTML(value='')))"
      ]
     },
     "metadata": {},
     "output_type": "display_data"
    },
    {
     "name": "stdout",
     "output_type": "stream",
     "text": [
      "\n",
      "Optimization finished!\n",
      "Evaluating: {'k': 15, 'lambda_reg': 0.0001, 'learning_rate': 0.0001}\n"
     ]
    },
    {
     "data": {
      "application/vnd.jupyter.widget-view+json": {
       "model_id": "50b560719f8a4c58886abe897dde3bff",
       "version_major": 2,
       "version_minor": 0
      },
      "text/plain": [
       "HBox(children=(FloatProgress(value=0.0, max=50.0), HTML(value='')))"
      ]
     },
     "metadata": {},
     "output_type": "display_data"
    },
    {
     "name": "stdout",
     "output_type": "stream",
     "text": [
      "\n",
      "Optimization finished!\n",
      "Evaluating: {'k': 15, 'lambda_reg': 0.0001, 'learning_rate': 0.001}\n"
     ]
    },
    {
     "data": {
      "application/vnd.jupyter.widget-view+json": {
       "model_id": "0520d22ee75544de92512e2127f99967",
       "version_major": 2,
       "version_minor": 0
      },
      "text/plain": [
       "HBox(children=(FloatProgress(value=0.0, max=50.0), HTML(value='')))"
      ]
     },
     "metadata": {},
     "output_type": "display_data"
    },
    {
     "name": "stdout",
     "output_type": "stream",
     "text": [
      "\n",
      "Optimization finished!\n",
      "Evaluating: {'k': 15, 'lambda_reg': 0.0001, 'learning_rate': 0.01}\n"
     ]
    },
    {
     "data": {
      "application/vnd.jupyter.widget-view+json": {
       "model_id": "1e137bcb9e87434cbfc807f52e50adf0",
       "version_major": 2,
       "version_minor": 0
      },
      "text/plain": [
       "HBox(children=(FloatProgress(value=0.0, max=50.0), HTML(value='')))"
      ]
     },
     "metadata": {},
     "output_type": "display_data"
    },
    {
     "name": "stdout",
     "output_type": "stream",
     "text": [
      "\n",
      "Optimization finished!\n",
      "Evaluating: {'k': 15, 'lambda_reg': 0.0001, 'learning_rate': 0.1}\n"
     ]
    },
    {
     "data": {
      "application/vnd.jupyter.widget-view+json": {
       "model_id": "9d25c6d047274665823853ca3454e1bf",
       "version_major": 2,
       "version_minor": 0
      },
      "text/plain": [
       "HBox(children=(FloatProgress(value=0.0, max=50.0), HTML(value='')))"
      ]
     },
     "metadata": {},
     "output_type": "display_data"
    },
    {
     "name": "stdout",
     "output_type": "stream",
     "text": [
      "\n",
      "Optimization finished!\n",
      "Evaluating: {'k': 15, 'lambda_reg': 0.001, 'learning_rate': 0.0001}\n"
     ]
    },
    {
     "data": {
      "application/vnd.jupyter.widget-view+json": {
       "model_id": "25b5b89741804081a97218a2ee45c599",
       "version_major": 2,
       "version_minor": 0
      },
      "text/plain": [
       "HBox(children=(FloatProgress(value=0.0, max=50.0), HTML(value='')))"
      ]
     },
     "metadata": {},
     "output_type": "display_data"
    },
    {
     "name": "stdout",
     "output_type": "stream",
     "text": [
      "\n",
      "Optimization finished!\n",
      "Evaluating: {'k': 15, 'lambda_reg': 0.001, 'learning_rate': 0.001}\n"
     ]
    },
    {
     "data": {
      "application/vnd.jupyter.widget-view+json": {
       "model_id": "b7786c5eaf8543179c482b7377f42188",
       "version_major": 2,
       "version_minor": 0
      },
      "text/plain": [
       "HBox(children=(FloatProgress(value=0.0, max=50.0), HTML(value='')))"
      ]
     },
     "metadata": {},
     "output_type": "display_data"
    },
    {
     "name": "stdout",
     "output_type": "stream",
     "text": [
      "\n",
      "Optimization finished!\n",
      "Evaluating: {'k': 15, 'lambda_reg': 0.001, 'learning_rate': 0.01}\n"
     ]
    },
    {
     "data": {
      "application/vnd.jupyter.widget-view+json": {
       "model_id": "9d36d8790dea426a961b0ac7e2c6c9d6",
       "version_major": 2,
       "version_minor": 0
      },
      "text/plain": [
       "HBox(children=(FloatProgress(value=0.0, max=50.0), HTML(value='')))"
      ]
     },
     "metadata": {},
     "output_type": "display_data"
    },
    {
     "name": "stdout",
     "output_type": "stream",
     "text": [
      "\n",
      "Optimization finished!\n",
      "Evaluating: {'k': 15, 'lambda_reg': 0.001, 'learning_rate': 0.1}\n"
     ]
    },
    {
     "data": {
      "application/vnd.jupyter.widget-view+json": {
       "model_id": "68ac9cf05093479891770f954292a279",
       "version_major": 2,
       "version_minor": 0
      },
      "text/plain": [
       "HBox(children=(FloatProgress(value=0.0, max=50.0), HTML(value='')))"
      ]
     },
     "metadata": {},
     "output_type": "display_data"
    },
    {
     "name": "stdout",
     "output_type": "stream",
     "text": [
      "\n",
      "Optimization finished!\n",
      "Evaluating: {'k': 15, 'lambda_reg': 0.01, 'learning_rate': 0.0001}\n"
     ]
    },
    {
     "data": {
      "application/vnd.jupyter.widget-view+json": {
       "model_id": "26cad01d53394ac09127ea9f81a0708b",
       "version_major": 2,
       "version_minor": 0
      },
      "text/plain": [
       "HBox(children=(FloatProgress(value=0.0, max=50.0), HTML(value='')))"
      ]
     },
     "metadata": {},
     "output_type": "display_data"
    },
    {
     "name": "stdout",
     "output_type": "stream",
     "text": [
      "\n",
      "Optimization finished!\n",
      "Evaluating: {'k': 15, 'lambda_reg': 0.01, 'learning_rate': 0.001}\n"
     ]
    },
    {
     "data": {
      "application/vnd.jupyter.widget-view+json": {
       "model_id": "828dfdca81d84a2f9f54f456fed1c6a0",
       "version_major": 2,
       "version_minor": 0
      },
      "text/plain": [
       "HBox(children=(FloatProgress(value=0.0, max=50.0), HTML(value='')))"
      ]
     },
     "metadata": {},
     "output_type": "display_data"
    },
    {
     "name": "stdout",
     "output_type": "stream",
     "text": [
      "\n",
      "Optimization finished!\n",
      "Evaluating: {'k': 15, 'lambda_reg': 0.01, 'learning_rate': 0.01}\n"
     ]
    },
    {
     "data": {
      "application/vnd.jupyter.widget-view+json": {
       "model_id": "36a2ea5afbd24804992a763b2c540c41",
       "version_major": 2,
       "version_minor": 0
      },
      "text/plain": [
       "HBox(children=(FloatProgress(value=0.0, max=50.0), HTML(value='')))"
      ]
     },
     "metadata": {},
     "output_type": "display_data"
    },
    {
     "name": "stdout",
     "output_type": "stream",
     "text": [
      "\n",
      "Optimization finished!\n",
      "Evaluating: {'k': 15, 'lambda_reg': 0.01, 'learning_rate': 0.1}\n"
     ]
    },
    {
     "data": {
      "application/vnd.jupyter.widget-view+json": {
       "model_id": "bba8084dbd4e4de3aaec7f6cf1219af6",
       "version_major": 2,
       "version_minor": 0
      },
      "text/plain": [
       "HBox(children=(FloatProgress(value=0.0, max=50.0), HTML(value='')))"
      ]
     },
     "metadata": {},
     "output_type": "display_data"
    },
    {
     "name": "stdout",
     "output_type": "stream",
     "text": [
      "\n",
      "Optimization finished!\n",
      "Evaluating: {'k': 15, 'lambda_reg': 0.1, 'learning_rate': 0.0001}\n"
     ]
    },
    {
     "data": {
      "application/vnd.jupyter.widget-view+json": {
       "model_id": "ae8eb3782a9c48e6a664e09eca010d61",
       "version_major": 2,
       "version_minor": 0
      },
      "text/plain": [
       "HBox(children=(FloatProgress(value=0.0, max=50.0), HTML(value='')))"
      ]
     },
     "metadata": {},
     "output_type": "display_data"
    },
    {
     "name": "stdout",
     "output_type": "stream",
     "text": [
      "\n",
      "Optimization finished!\n",
      "Evaluating: {'k': 15, 'lambda_reg': 0.1, 'learning_rate': 0.001}\n"
     ]
    },
    {
     "data": {
      "application/vnd.jupyter.widget-view+json": {
       "model_id": "0a0917543a7b431ebf1fe13144417377",
       "version_major": 2,
       "version_minor": 0
      },
      "text/plain": [
       "HBox(children=(FloatProgress(value=0.0, max=50.0), HTML(value='')))"
      ]
     },
     "metadata": {},
     "output_type": "display_data"
    },
    {
     "name": "stdout",
     "output_type": "stream",
     "text": [
      "\n",
      "Optimization finished!\n",
      "Evaluating: {'k': 15, 'lambda_reg': 0.1, 'learning_rate': 0.01}\n"
     ]
    },
    {
     "data": {
      "application/vnd.jupyter.widget-view+json": {
       "model_id": "3cd8a7e8a66c41a78c8a21cc2f69c044",
       "version_major": 2,
       "version_minor": 0
      },
      "text/plain": [
       "HBox(children=(FloatProgress(value=0.0, max=50.0), HTML(value='')))"
      ]
     },
     "metadata": {},
     "output_type": "display_data"
    },
    {
     "name": "stdout",
     "output_type": "stream",
     "text": [
      "\n",
      "Optimization finished!\n",
      "Evaluating: {'k': 15, 'lambda_reg': 0.1, 'learning_rate': 0.1}\n"
     ]
    },
    {
     "data": {
      "application/vnd.jupyter.widget-view+json": {
       "model_id": "67a80e76369d4138be8dd73b010dc5bf",
       "version_major": 2,
       "version_minor": 0
      },
      "text/plain": [
       "HBox(children=(FloatProgress(value=0.0, max=50.0), HTML(value='')))"
      ]
     },
     "metadata": {},
     "output_type": "display_data"
    },
    {
     "name": "stdout",
     "output_type": "stream",
     "text": [
      "\n",
      "Optimization finished!\n",
      "Evaluating: {'k': 20, 'lambda_reg': 0.0001, 'learning_rate': 0.0001}\n"
     ]
    },
    {
     "data": {
      "application/vnd.jupyter.widget-view+json": {
       "model_id": "ba5a0ae1a03b47c094d1badf68f83320",
       "version_major": 2,
       "version_minor": 0
      },
      "text/plain": [
       "HBox(children=(FloatProgress(value=0.0, max=50.0), HTML(value='')))"
      ]
     },
     "metadata": {},
     "output_type": "display_data"
    },
    {
     "name": "stdout",
     "output_type": "stream",
     "text": [
      "\n",
      "Optimization finished!\n",
      "Evaluating: {'k': 20, 'lambda_reg': 0.0001, 'learning_rate': 0.001}\n"
     ]
    },
    {
     "data": {
      "application/vnd.jupyter.widget-view+json": {
       "model_id": "57ccdc93f83740cba7190fc392b4e927",
       "version_major": 2,
       "version_minor": 0
      },
      "text/plain": [
       "HBox(children=(FloatProgress(value=0.0, max=50.0), HTML(value='')))"
      ]
     },
     "metadata": {},
     "output_type": "display_data"
    },
    {
     "name": "stdout",
     "output_type": "stream",
     "text": [
      "\n",
      "Optimization finished!\n",
      "Evaluating: {'k': 20, 'lambda_reg': 0.0001, 'learning_rate': 0.01}\n"
     ]
    },
    {
     "data": {
      "application/vnd.jupyter.widget-view+json": {
       "model_id": "8732a90d074646f7a72d603a56ea83bb",
       "version_major": 2,
       "version_minor": 0
      },
      "text/plain": [
       "HBox(children=(FloatProgress(value=0.0, max=50.0), HTML(value='')))"
      ]
     },
     "metadata": {},
     "output_type": "display_data"
    },
    {
     "name": "stdout",
     "output_type": "stream",
     "text": [
      "\n",
      "Optimization finished!\n",
      "Evaluating: {'k': 20, 'lambda_reg': 0.0001, 'learning_rate': 0.1}\n"
     ]
    },
    {
     "data": {
      "application/vnd.jupyter.widget-view+json": {
       "model_id": "531fabd9c8154a14b5caa962a90ac191",
       "version_major": 2,
       "version_minor": 0
      },
      "text/plain": [
       "HBox(children=(FloatProgress(value=0.0, max=50.0), HTML(value='')))"
      ]
     },
     "metadata": {},
     "output_type": "display_data"
    },
    {
     "name": "stdout",
     "output_type": "stream",
     "text": [
      "\n",
      "Optimization finished!\n",
      "Evaluating: {'k': 20, 'lambda_reg': 0.001, 'learning_rate': 0.0001}\n"
     ]
    },
    {
     "data": {
      "application/vnd.jupyter.widget-view+json": {
       "model_id": "baad67779521414f96716cdec4180d6e",
       "version_major": 2,
       "version_minor": 0
      },
      "text/plain": [
       "HBox(children=(FloatProgress(value=0.0, max=50.0), HTML(value='')))"
      ]
     },
     "metadata": {},
     "output_type": "display_data"
    },
    {
     "name": "stdout",
     "output_type": "stream",
     "text": [
      "\n",
      "Optimization finished!\n",
      "Evaluating: {'k': 20, 'lambda_reg': 0.001, 'learning_rate': 0.001}\n"
     ]
    },
    {
     "data": {
      "application/vnd.jupyter.widget-view+json": {
       "model_id": "617ddcb5272a4f5bab08b7153341c9a8",
       "version_major": 2,
       "version_minor": 0
      },
      "text/plain": [
       "HBox(children=(FloatProgress(value=0.0, max=50.0), HTML(value='')))"
      ]
     },
     "metadata": {},
     "output_type": "display_data"
    },
    {
     "name": "stdout",
     "output_type": "stream",
     "text": [
      "\n",
      "Optimization finished!\n",
      "Evaluating: {'k': 20, 'lambda_reg': 0.001, 'learning_rate': 0.01}\n"
     ]
    },
    {
     "data": {
      "application/vnd.jupyter.widget-view+json": {
       "model_id": "e492cc679a56425dba34c16d8a276a95",
       "version_major": 2,
       "version_minor": 0
      },
      "text/plain": [
       "HBox(children=(FloatProgress(value=0.0, max=50.0), HTML(value='')))"
      ]
     },
     "metadata": {},
     "output_type": "display_data"
    },
    {
     "name": "stdout",
     "output_type": "stream",
     "text": [
      "\n",
      "Optimization finished!\n",
      "Evaluating: {'k': 20, 'lambda_reg': 0.001, 'learning_rate': 0.1}\n"
     ]
    },
    {
     "data": {
      "application/vnd.jupyter.widget-view+json": {
       "model_id": "a8d370b8a1694bb6bc8f5b637e2395a6",
       "version_major": 2,
       "version_minor": 0
      },
      "text/plain": [
       "HBox(children=(FloatProgress(value=0.0, max=50.0), HTML(value='')))"
      ]
     },
     "metadata": {},
     "output_type": "display_data"
    },
    {
     "name": "stdout",
     "output_type": "stream",
     "text": [
      "\n",
      "Optimization finished!\n",
      "Evaluating: {'k': 20, 'lambda_reg': 0.01, 'learning_rate': 0.0001}\n"
     ]
    },
    {
     "data": {
      "application/vnd.jupyter.widget-view+json": {
       "model_id": "52cb91b9299246f7bd6fe805a0535828",
       "version_major": 2,
       "version_minor": 0
      },
      "text/plain": [
       "HBox(children=(FloatProgress(value=0.0, max=50.0), HTML(value='')))"
      ]
     },
     "metadata": {},
     "output_type": "display_data"
    },
    {
     "name": "stdout",
     "output_type": "stream",
     "text": [
      "\n",
      "Optimization finished!\n",
      "Evaluating: {'k': 20, 'lambda_reg': 0.01, 'learning_rate': 0.001}\n"
     ]
    },
    {
     "data": {
      "application/vnd.jupyter.widget-view+json": {
       "model_id": "eb3a90f9976541d4a6e4bbd804e8b351",
       "version_major": 2,
       "version_minor": 0
      },
      "text/plain": [
       "HBox(children=(FloatProgress(value=0.0, max=50.0), HTML(value='')))"
      ]
     },
     "metadata": {},
     "output_type": "display_data"
    },
    {
     "name": "stdout",
     "output_type": "stream",
     "text": [
      "\n",
      "Optimization finished!\n",
      "Evaluating: {'k': 20, 'lambda_reg': 0.01, 'learning_rate': 0.01}\n"
     ]
    },
    {
     "data": {
      "application/vnd.jupyter.widget-view+json": {
       "model_id": "ebe705eccd74451e90703e6182e2c3bf",
       "version_major": 2,
       "version_minor": 0
      },
      "text/plain": [
       "HBox(children=(FloatProgress(value=0.0, max=50.0), HTML(value='')))"
      ]
     },
     "metadata": {},
     "output_type": "display_data"
    },
    {
     "name": "stdout",
     "output_type": "stream",
     "text": [
      "\n",
      "Optimization finished!\n",
      "Evaluating: {'k': 20, 'lambda_reg': 0.01, 'learning_rate': 0.1}\n"
     ]
    },
    {
     "data": {
      "application/vnd.jupyter.widget-view+json": {
       "model_id": "d401e5379eb346e994f325504b0439a2",
       "version_major": 2,
       "version_minor": 0
      },
      "text/plain": [
       "HBox(children=(FloatProgress(value=0.0, max=50.0), HTML(value='')))"
      ]
     },
     "metadata": {},
     "output_type": "display_data"
    },
    {
     "name": "stdout",
     "output_type": "stream",
     "text": [
      "\n",
      "Optimization finished!\n",
      "Evaluating: {'k': 20, 'lambda_reg': 0.1, 'learning_rate': 0.0001}\n"
     ]
    },
    {
     "data": {
      "application/vnd.jupyter.widget-view+json": {
       "model_id": "3ec39a9de8cd4b80839c2428bac39b94",
       "version_major": 2,
       "version_minor": 0
      },
      "text/plain": [
       "HBox(children=(FloatProgress(value=0.0, max=50.0), HTML(value='')))"
      ]
     },
     "metadata": {},
     "output_type": "display_data"
    },
    {
     "name": "stdout",
     "output_type": "stream",
     "text": [
      "\n",
      "Optimization finished!\n",
      "Evaluating: {'k': 20, 'lambda_reg': 0.1, 'learning_rate': 0.001}\n"
     ]
    },
    {
     "data": {
      "application/vnd.jupyter.widget-view+json": {
       "model_id": "c339244223b7444f96b1b63a940f0a9b",
       "version_major": 2,
       "version_minor": 0
      },
      "text/plain": [
       "HBox(children=(FloatProgress(value=0.0, max=50.0), HTML(value='')))"
      ]
     },
     "metadata": {},
     "output_type": "display_data"
    },
    {
     "name": "stdout",
     "output_type": "stream",
     "text": [
      "\n",
      "Optimization finished!\n",
      "Evaluating: {'k': 20, 'lambda_reg': 0.1, 'learning_rate': 0.01}\n"
     ]
    },
    {
     "data": {
      "application/vnd.jupyter.widget-view+json": {
       "model_id": "24b533b3dc5e4fbfb45eb776e68d3b6d",
       "version_major": 2,
       "version_minor": 0
      },
      "text/plain": [
       "HBox(children=(FloatProgress(value=0.0, max=50.0), HTML(value='')))"
      ]
     },
     "metadata": {},
     "output_type": "display_data"
    },
    {
     "name": "stdout",
     "output_type": "stream",
     "text": [
      "\n",
      "Optimization finished!\n",
      "Evaluating: {'k': 20, 'lambda_reg': 0.1, 'learning_rate': 0.1}\n"
     ]
    },
    {
     "data": {
      "application/vnd.jupyter.widget-view+json": {
       "model_id": "1c95c16979d64aeca27821e09db6e77a",
       "version_major": 2,
       "version_minor": 0
      },
      "text/plain": [
       "HBox(children=(FloatProgress(value=0.0, max=50.0), HTML(value='')))"
      ]
     },
     "metadata": {},
     "output_type": "display_data"
    },
    {
     "name": "stdout",
     "output_type": "stream",
     "text": [
      "\n",
      "Optimization finished!\n",
      "Evaluating: {'k': 25, 'lambda_reg': 0.0001, 'learning_rate': 0.0001}\n"
     ]
    },
    {
     "data": {
      "application/vnd.jupyter.widget-view+json": {
       "model_id": "5217aeefa3ba4576a03671a7db58c7ca",
       "version_major": 2,
       "version_minor": 0
      },
      "text/plain": [
       "HBox(children=(FloatProgress(value=0.0, max=50.0), HTML(value='')))"
      ]
     },
     "metadata": {},
     "output_type": "display_data"
    },
    {
     "name": "stdout",
     "output_type": "stream",
     "text": [
      "\n",
      "Optimization finished!\n",
      "Evaluating: {'k': 25, 'lambda_reg': 0.0001, 'learning_rate': 0.001}\n"
     ]
    },
    {
     "data": {
      "application/vnd.jupyter.widget-view+json": {
       "model_id": "7397b886f604459da7fadfe7478dffa9",
       "version_major": 2,
       "version_minor": 0
      },
      "text/plain": [
       "HBox(children=(FloatProgress(value=0.0, max=50.0), HTML(value='')))"
      ]
     },
     "metadata": {},
     "output_type": "display_data"
    },
    {
     "name": "stdout",
     "output_type": "stream",
     "text": [
      "\n",
      "Optimization finished!\n",
      "Evaluating: {'k': 25, 'lambda_reg': 0.0001, 'learning_rate': 0.01}\n"
     ]
    },
    {
     "data": {
      "application/vnd.jupyter.widget-view+json": {
       "model_id": "a3e652fb81694e2c80f47a52cb8a086c",
       "version_major": 2,
       "version_minor": 0
      },
      "text/plain": [
       "HBox(children=(FloatProgress(value=0.0, max=50.0), HTML(value='')))"
      ]
     },
     "metadata": {},
     "output_type": "display_data"
    },
    {
     "name": "stdout",
     "output_type": "stream",
     "text": [
      "\n",
      "Optimization finished!\n",
      "Evaluating: {'k': 25, 'lambda_reg': 0.0001, 'learning_rate': 0.1}\n"
     ]
    },
    {
     "data": {
      "application/vnd.jupyter.widget-view+json": {
       "model_id": "0d7ba6fbd99e4e2985860f11333aa5eb",
       "version_major": 2,
       "version_minor": 0
      },
      "text/plain": [
       "HBox(children=(FloatProgress(value=0.0, max=50.0), HTML(value='')))"
      ]
     },
     "metadata": {},
     "output_type": "display_data"
    },
    {
     "name": "stdout",
     "output_type": "stream",
     "text": [
      "\n",
      "Optimization finished!\n",
      "Evaluating: {'k': 25, 'lambda_reg': 0.001, 'learning_rate': 0.0001}\n"
     ]
    },
    {
     "data": {
      "application/vnd.jupyter.widget-view+json": {
       "model_id": "5dd0e37d66144a27a98bcedde34d0edd",
       "version_major": 2,
       "version_minor": 0
      },
      "text/plain": [
       "HBox(children=(FloatProgress(value=0.0, max=50.0), HTML(value='')))"
      ]
     },
     "metadata": {},
     "output_type": "display_data"
    },
    {
     "name": "stdout",
     "output_type": "stream",
     "text": [
      "\n",
      "Optimization finished!\n",
      "Evaluating: {'k': 25, 'lambda_reg': 0.001, 'learning_rate': 0.001}\n"
     ]
    },
    {
     "data": {
      "application/vnd.jupyter.widget-view+json": {
       "model_id": "9c476504fdac4c9393012f64964676ce",
       "version_major": 2,
       "version_minor": 0
      },
      "text/plain": [
       "HBox(children=(FloatProgress(value=0.0, max=50.0), HTML(value='')))"
      ]
     },
     "metadata": {},
     "output_type": "display_data"
    },
    {
     "name": "stdout",
     "output_type": "stream",
     "text": [
      "\n",
      "Optimization finished!\n",
      "Evaluating: {'k': 25, 'lambda_reg': 0.001, 'learning_rate': 0.01}\n"
     ]
    },
    {
     "data": {
      "application/vnd.jupyter.widget-view+json": {
       "model_id": "99d490cdcdae43ab92fa18ec14766e2d",
       "version_major": 2,
       "version_minor": 0
      },
      "text/plain": [
       "HBox(children=(FloatProgress(value=0.0, max=50.0), HTML(value='')))"
      ]
     },
     "metadata": {},
     "output_type": "display_data"
    },
    {
     "name": "stdout",
     "output_type": "stream",
     "text": [
      "\n",
      "Optimization finished!\n",
      "Evaluating: {'k': 25, 'lambda_reg': 0.001, 'learning_rate': 0.1}\n"
     ]
    },
    {
     "data": {
      "application/vnd.jupyter.widget-view+json": {
       "model_id": "90d9bf9cb9f242fc85e397de14cd70dc",
       "version_major": 2,
       "version_minor": 0
      },
      "text/plain": [
       "HBox(children=(FloatProgress(value=0.0, max=50.0), HTML(value='')))"
      ]
     },
     "metadata": {},
     "output_type": "display_data"
    },
    {
     "name": "stdout",
     "output_type": "stream",
     "text": [
      "\n",
      "Optimization finished!\n",
      "Evaluating: {'k': 25, 'lambda_reg': 0.01, 'learning_rate': 0.0001}\n"
     ]
    },
    {
     "data": {
      "application/vnd.jupyter.widget-view+json": {
       "model_id": "cf29335998594f77b865c3c974b9298a",
       "version_major": 2,
       "version_minor": 0
      },
      "text/plain": [
       "HBox(children=(FloatProgress(value=0.0, max=50.0), HTML(value='')))"
      ]
     },
     "metadata": {},
     "output_type": "display_data"
    },
    {
     "name": "stdout",
     "output_type": "stream",
     "text": [
      "\n",
      "Optimization finished!\n",
      "Evaluating: {'k': 25, 'lambda_reg': 0.01, 'learning_rate': 0.001}\n"
     ]
    },
    {
     "data": {
      "application/vnd.jupyter.widget-view+json": {
       "model_id": "385294e9f0c345cb82435d0e05ce0c4b",
       "version_major": 2,
       "version_minor": 0
      },
      "text/plain": [
       "HBox(children=(FloatProgress(value=0.0, max=50.0), HTML(value='')))"
      ]
     },
     "metadata": {},
     "output_type": "display_data"
    },
    {
     "name": "stdout",
     "output_type": "stream",
     "text": [
      "\n",
      "Optimization finished!\n",
      "Evaluating: {'k': 25, 'lambda_reg': 0.01, 'learning_rate': 0.01}\n"
     ]
    },
    {
     "data": {
      "application/vnd.jupyter.widget-view+json": {
       "model_id": "a9c798265bc5454fad6d78c51f18aeda",
       "version_major": 2,
       "version_minor": 0
      },
      "text/plain": [
       "HBox(children=(FloatProgress(value=0.0, max=50.0), HTML(value='')))"
      ]
     },
     "metadata": {},
     "output_type": "display_data"
    },
    {
     "name": "stdout",
     "output_type": "stream",
     "text": [
      "\n",
      "Optimization finished!\n",
      "Evaluating: {'k': 25, 'lambda_reg': 0.01, 'learning_rate': 0.1}\n"
     ]
    },
    {
     "data": {
      "application/vnd.jupyter.widget-view+json": {
       "model_id": "36dec240a4444a97882da41c0719843c",
       "version_major": 2,
       "version_minor": 0
      },
      "text/plain": [
       "HBox(children=(FloatProgress(value=0.0, max=50.0), HTML(value='')))"
      ]
     },
     "metadata": {},
     "output_type": "display_data"
    },
    {
     "name": "stdout",
     "output_type": "stream",
     "text": [
      "\n",
      "Optimization finished!\n",
      "Evaluating: {'k': 25, 'lambda_reg': 0.1, 'learning_rate': 0.0001}\n"
     ]
    },
    {
     "data": {
      "application/vnd.jupyter.widget-view+json": {
       "model_id": "0e7f301d40fe45859079656ee5973dbb",
       "version_major": 2,
       "version_minor": 0
      },
      "text/plain": [
       "HBox(children=(FloatProgress(value=0.0, max=50.0), HTML(value='')))"
      ]
     },
     "metadata": {},
     "output_type": "display_data"
    },
    {
     "name": "stdout",
     "output_type": "stream",
     "text": [
      "\n",
      "Optimization finished!\n",
      "Evaluating: {'k': 25, 'lambda_reg': 0.1, 'learning_rate': 0.001}\n"
     ]
    },
    {
     "data": {
      "application/vnd.jupyter.widget-view+json": {
       "model_id": "7fc9887a2e774760ab0ef5af7e7246ea",
       "version_major": 2,
       "version_minor": 0
      },
      "text/plain": [
       "HBox(children=(FloatProgress(value=0.0, max=50.0), HTML(value='')))"
      ]
     },
     "metadata": {},
     "output_type": "display_data"
    },
    {
     "name": "stdout",
     "output_type": "stream",
     "text": [
      "\n",
      "Optimization finished!\n",
      "Evaluating: {'k': 25, 'lambda_reg': 0.1, 'learning_rate': 0.01}\n"
     ]
    },
    {
     "data": {
      "application/vnd.jupyter.widget-view+json": {
       "model_id": "587466964399435198e47be5c8bd2ef6",
       "version_major": 2,
       "version_minor": 0
      },
      "text/plain": [
       "HBox(children=(FloatProgress(value=0.0, max=50.0), HTML(value='')))"
      ]
     },
     "metadata": {},
     "output_type": "display_data"
    },
    {
     "name": "stdout",
     "output_type": "stream",
     "text": [
      "\n",
      "Optimization finished!\n",
      "Evaluating: {'k': 25, 'lambda_reg': 0.1, 'learning_rate': 0.1}\n"
     ]
    },
    {
     "data": {
      "application/vnd.jupyter.widget-view+json": {
       "model_id": "d7e100ae690e4269aa7c183c27d8693c",
       "version_major": 2,
       "version_minor": 0
      },
      "text/plain": [
       "HBox(children=(FloatProgress(value=0.0, max=50.0), HTML(value='')))"
      ]
     },
     "metadata": {},
     "output_type": "display_data"
    },
    {
     "name": "stdout",
     "output_type": "stream",
     "text": [
      "\n",
      "Optimization finished!\n",
      "Evaluating: {'k': 30, 'lambda_reg': 0.0001, 'learning_rate': 0.0001}\n"
     ]
    },
    {
     "data": {
      "application/vnd.jupyter.widget-view+json": {
       "model_id": "330ca7ef8fc447e4a90e1336e1643727",
       "version_major": 2,
       "version_minor": 0
      },
      "text/plain": [
       "HBox(children=(FloatProgress(value=0.0, max=50.0), HTML(value='')))"
      ]
     },
     "metadata": {},
     "output_type": "display_data"
    },
    {
     "name": "stdout",
     "output_type": "stream",
     "text": [
      "\n",
      "Optimization finished!\n",
      "Evaluating: {'k': 30, 'lambda_reg': 0.0001, 'learning_rate': 0.001}\n"
     ]
    },
    {
     "data": {
      "application/vnd.jupyter.widget-view+json": {
       "model_id": "9721b63ab7014d84b726c8936f7537ea",
       "version_major": 2,
       "version_minor": 0
      },
      "text/plain": [
       "HBox(children=(FloatProgress(value=0.0, max=50.0), HTML(value='')))"
      ]
     },
     "metadata": {},
     "output_type": "display_data"
    },
    {
     "name": "stdout",
     "output_type": "stream",
     "text": [
      "\n",
      "Optimization finished!\n",
      "Evaluating: {'k': 30, 'lambda_reg': 0.0001, 'learning_rate': 0.01}\n"
     ]
    },
    {
     "data": {
      "application/vnd.jupyter.widget-view+json": {
       "model_id": "b7760bb317a3420cbdd8c167b17cb8b7",
       "version_major": 2,
       "version_minor": 0
      },
      "text/plain": [
       "HBox(children=(FloatProgress(value=0.0, max=50.0), HTML(value='')))"
      ]
     },
     "metadata": {},
     "output_type": "display_data"
    },
    {
     "name": "stdout",
     "output_type": "stream",
     "text": [
      "\n",
      "Optimization finished!\n",
      "Evaluating: {'k': 30, 'lambda_reg': 0.0001, 'learning_rate': 0.1}\n"
     ]
    },
    {
     "data": {
      "application/vnd.jupyter.widget-view+json": {
       "model_id": "203aa593eb434163b33bd8c9b3de3b91",
       "version_major": 2,
       "version_minor": 0
      },
      "text/plain": [
       "HBox(children=(FloatProgress(value=0.0, max=50.0), HTML(value='')))"
      ]
     },
     "metadata": {},
     "output_type": "display_data"
    },
    {
     "name": "stdout",
     "output_type": "stream",
     "text": [
      "\n",
      "Optimization finished!\n",
      "Evaluating: {'k': 30, 'lambda_reg': 0.001, 'learning_rate': 0.0001}\n"
     ]
    },
    {
     "data": {
      "application/vnd.jupyter.widget-view+json": {
       "model_id": "83b806bbc1b24ba99f024d1a5a5866f7",
       "version_major": 2,
       "version_minor": 0
      },
      "text/plain": [
       "HBox(children=(FloatProgress(value=0.0, max=50.0), HTML(value='')))"
      ]
     },
     "metadata": {},
     "output_type": "display_data"
    },
    {
     "name": "stdout",
     "output_type": "stream",
     "text": [
      "\n",
      "Optimization finished!\n",
      "Evaluating: {'k': 30, 'lambda_reg': 0.001, 'learning_rate': 0.001}\n"
     ]
    },
    {
     "data": {
      "application/vnd.jupyter.widget-view+json": {
       "model_id": "222b05aefb5a499d8028be486953854e",
       "version_major": 2,
       "version_minor": 0
      },
      "text/plain": [
       "HBox(children=(FloatProgress(value=0.0, max=50.0), HTML(value='')))"
      ]
     },
     "metadata": {},
     "output_type": "display_data"
    },
    {
     "name": "stdout",
     "output_type": "stream",
     "text": [
      "\n",
      "Optimization finished!\n",
      "Evaluating: {'k': 30, 'lambda_reg': 0.001, 'learning_rate': 0.01}\n"
     ]
    },
    {
     "data": {
      "application/vnd.jupyter.widget-view+json": {
       "model_id": "42deafa337e64ce191c7bcff96555fff",
       "version_major": 2,
       "version_minor": 0
      },
      "text/plain": [
       "HBox(children=(FloatProgress(value=0.0, max=50.0), HTML(value='')))"
      ]
     },
     "metadata": {},
     "output_type": "display_data"
    },
    {
     "name": "stdout",
     "output_type": "stream",
     "text": [
      "\n",
      "Optimization finished!\n",
      "Evaluating: {'k': 30, 'lambda_reg': 0.001, 'learning_rate': 0.1}\n"
     ]
    },
    {
     "data": {
      "application/vnd.jupyter.widget-view+json": {
       "model_id": "44832eee79c6422fb8c7c2360327e0dc",
       "version_major": 2,
       "version_minor": 0
      },
      "text/plain": [
       "HBox(children=(FloatProgress(value=0.0, max=50.0), HTML(value='')))"
      ]
     },
     "metadata": {},
     "output_type": "display_data"
    },
    {
     "name": "stdout",
     "output_type": "stream",
     "text": [
      "\n",
      "Optimization finished!\n",
      "Evaluating: {'k': 30, 'lambda_reg': 0.01, 'learning_rate': 0.0001}\n"
     ]
    },
    {
     "data": {
      "application/vnd.jupyter.widget-view+json": {
       "model_id": "e20cb47fce7447ac8d8164a4e94ecba7",
       "version_major": 2,
       "version_minor": 0
      },
      "text/plain": [
       "HBox(children=(FloatProgress(value=0.0, max=50.0), HTML(value='')))"
      ]
     },
     "metadata": {},
     "output_type": "display_data"
    },
    {
     "name": "stdout",
     "output_type": "stream",
     "text": [
      "\n",
      "Optimization finished!\n",
      "Evaluating: {'k': 30, 'lambda_reg': 0.01, 'learning_rate': 0.001}\n"
     ]
    },
    {
     "data": {
      "application/vnd.jupyter.widget-view+json": {
       "model_id": "af24cd6f60054541bb3cb3ce0246eab1",
       "version_major": 2,
       "version_minor": 0
      },
      "text/plain": [
       "HBox(children=(FloatProgress(value=0.0, max=50.0), HTML(value='')))"
      ]
     },
     "metadata": {},
     "output_type": "display_data"
    },
    {
     "name": "stdout",
     "output_type": "stream",
     "text": [
      "\n",
      "Optimization finished!\n",
      "Evaluating: {'k': 30, 'lambda_reg': 0.01, 'learning_rate': 0.01}\n"
     ]
    },
    {
     "data": {
      "application/vnd.jupyter.widget-view+json": {
       "model_id": "9908bb38928f4c84af8042ee9c7847a8",
       "version_major": 2,
       "version_minor": 0
      },
      "text/plain": [
       "HBox(children=(FloatProgress(value=0.0, max=50.0), HTML(value='')))"
      ]
     },
     "metadata": {},
     "output_type": "display_data"
    },
    {
     "name": "stdout",
     "output_type": "stream",
     "text": [
      "\n",
      "Optimization finished!\n",
      "Evaluating: {'k': 30, 'lambda_reg': 0.01, 'learning_rate': 0.1}\n"
     ]
    },
    {
     "data": {
      "application/vnd.jupyter.widget-view+json": {
       "model_id": "296003f61bdf48bead0236ee4d774c8d",
       "version_major": 2,
       "version_minor": 0
      },
      "text/plain": [
       "HBox(children=(FloatProgress(value=0.0, max=50.0), HTML(value='')))"
      ]
     },
     "metadata": {},
     "output_type": "display_data"
    },
    {
     "name": "stdout",
     "output_type": "stream",
     "text": [
      "\n",
      "Optimization finished!\n",
      "Evaluating: {'k': 30, 'lambda_reg': 0.1, 'learning_rate': 0.0001}\n"
     ]
    },
    {
     "data": {
      "application/vnd.jupyter.widget-view+json": {
       "model_id": "64b2a9c1f29f4fb6b1a3166a7acacb2a",
       "version_major": 2,
       "version_minor": 0
      },
      "text/plain": [
       "HBox(children=(FloatProgress(value=0.0, max=50.0), HTML(value='')))"
      ]
     },
     "metadata": {},
     "output_type": "display_data"
    },
    {
     "name": "stdout",
     "output_type": "stream",
     "text": [
      "\n",
      "Optimization finished!\n",
      "Evaluating: {'k': 30, 'lambda_reg': 0.1, 'learning_rate': 0.001}\n"
     ]
    },
    {
     "data": {
      "application/vnd.jupyter.widget-view+json": {
       "model_id": "7e6d13016fea483baf63f84c76b18972",
       "version_major": 2,
       "version_minor": 0
      },
      "text/plain": [
       "HBox(children=(FloatProgress(value=0.0, max=50.0), HTML(value='')))"
      ]
     },
     "metadata": {},
     "output_type": "display_data"
    },
    {
     "name": "stdout",
     "output_type": "stream",
     "text": [
      "\n",
      "Optimization finished!\n",
      "Evaluating: {'k': 30, 'lambda_reg': 0.1, 'learning_rate': 0.01}\n"
     ]
    },
    {
     "data": {
      "application/vnd.jupyter.widget-view+json": {
       "model_id": "6790f117ea834002a6fb89a17294f607",
       "version_major": 2,
       "version_minor": 0
      },
      "text/plain": [
       "HBox(children=(FloatProgress(value=0.0, max=50.0), HTML(value='')))"
      ]
     },
     "metadata": {},
     "output_type": "display_data"
    },
    {
     "name": "stdout",
     "output_type": "stream",
     "text": [
      "\n",
      "Optimization finished!\n",
      "Evaluating: {'k': 30, 'lambda_reg': 0.1, 'learning_rate': 0.1}\n"
     ]
    },
    {
     "data": {
      "application/vnd.jupyter.widget-view+json": {
       "model_id": "b807d63f63aa4c2c8e371ab452e56daf",
       "version_major": 2,
       "version_minor": 0
      },
      "text/plain": [
       "HBox(children=(FloatProgress(value=0.0, max=50.0), HTML(value='')))"
      ]
     },
     "metadata": {},
     "output_type": "display_data"
    },
    {
     "name": "stdout",
     "output_type": "stream",
     "text": [
      "\n",
      "Optimization finished!\n",
      "Best parameter settings: {'k': 30, 'lambda_reg': 0.1, 'learning_rate': 0.0001}\n",
      "RMSE = 1.7835\n",
      "\n",
      "VALIDATION:\n",
      "...\n",
      "               |   RMSE | Time (s)\n",
      "-------------- + ------ + --------\n",
      "GridSearch_NMF | 1.7835 |   0.5305\n",
      "\n",
      "TEST:\n",
      "...\n",
      "               |   RMSE | Train (s) | Test (s)\n",
      "-------------- + ------ + --------- + --------\n",
      "GridSearch_NMF | 1.7919 |  214.0257 |   0.5467\n",
      "\n"
     ]
    }
   ],
   "source": [
    "# Instantiate a NMF recommender model.\n",
    "nmf = cornac.models.NMF(\n",
    "    k=15,\n",
    "    max_iter=50,\n",
    "    learning_rate=0.01,\n",
    "    use_bias=False,\n",
    "    verbose=True,\n",
    "    seed=123,\n",
    ")\n",
    "\n",
    "gs = GridSearch(\n",
    "    model=nmf,\n",
    "    space=[\n",
    "        Discrete(\"k\", [10, 15, 20, 25, 30]),\n",
    "        Discrete(\"learning_rate\", [1e-1, 1e-2, 1e-3, 1e-4]),\n",
    "        Discrete(\"lambda_reg\", [1e-1, 1e-2, 1e-3, 1e-4]),\n",
    "    ],\n",
    "    metric=rmse,\n",
    "    eval_method=ratio_split\n",
    ")\n",
    "\n",
    "cornac.Experiment(\n",
    "    eval_method=ratio_split,\n",
    "    models=[gs],\n",
    "    metrics=[rmse],\n",
    "    user_based=False\n",
    ").run()"
   ]
  },
  {
   "cell_type": "markdown",
   "id": "281a640c",
   "metadata": {},
   "source": [
    "Καλύτεροι παράμετροι: k = 30, lambda_reg = 0.1, learning_rate = 0.0001"
   ]
  },
  {
   "cell_type": "markdown",
   "id": "ff81504b",
   "metadata": {},
   "source": [
    "## Αλγόριθμος MLP με εύρεση βέλτιστων παραμέτρων με grid search"
   ]
  },
  {
   "cell_type": "code",
   "execution_count": 8,
   "id": "584733d3",
   "metadata": {},
   "outputs": [
    {
     "name": "stdout",
     "output_type": "stream",
     "text": [
      "Evaluating: {'layers': (32, 16, 8), 'lr': 0.0001}\n"
     ]
    },
    {
     "data": {
      "application/vnd.jupyter.widget-view+json": {
       "model_id": "c415a3b2c32f45faab5d9c29e3934818",
       "version_major": 2,
       "version_minor": 0
      },
      "text/plain": [
       "HBox(children=(FloatProgress(value=0.0, max=50.0), HTML(value='')))"
      ]
     },
     "metadata": {},
     "output_type": "display_data"
    },
    {
     "name": "stdout",
     "output_type": "stream",
     "text": [
      "\n",
      "Optimization finished!\n",
      "Evaluating: {'layers': (32, 16, 8), 'lr': 0.001}\n"
     ]
    },
    {
     "data": {
      "application/vnd.jupyter.widget-view+json": {
       "model_id": "166b90b180b441e3b1afd8195b7fce6a",
       "version_major": 2,
       "version_minor": 0
      },
      "text/plain": [
       "HBox(children=(FloatProgress(value=0.0, max=50.0), HTML(value='')))"
      ]
     },
     "metadata": {},
     "output_type": "display_data"
    },
    {
     "name": "stdout",
     "output_type": "stream",
     "text": [
      "\n",
      "Optimization finished!\n",
      "Evaluating: {'layers': (32, 16, 8), 'lr': 0.01}\n"
     ]
    },
    {
     "data": {
      "application/vnd.jupyter.widget-view+json": {
       "model_id": "27c82c33499d4ca7a3328b6fe020bb21",
       "version_major": 2,
       "version_minor": 0
      },
      "text/plain": [
       "HBox(children=(FloatProgress(value=0.0, max=50.0), HTML(value='')))"
      ]
     },
     "metadata": {},
     "output_type": "display_data"
    },
    {
     "name": "stdout",
     "output_type": "stream",
     "text": [
      "\n",
      "Optimization finished!\n",
      "Evaluating: {'layers': (32, 16, 8), 'lr': 0.1}\n"
     ]
    },
    {
     "data": {
      "application/vnd.jupyter.widget-view+json": {
       "model_id": "2a965fde5f8d4ddd884b00aa8f33b593",
       "version_major": 2,
       "version_minor": 0
      },
      "text/plain": [
       "HBox(children=(FloatProgress(value=0.0, max=50.0), HTML(value='')))"
      ]
     },
     "metadata": {},
     "output_type": "display_data"
    },
    {
     "name": "stdout",
     "output_type": "stream",
     "text": [
      "\n",
      "Optimization finished!\n",
      "Evaluating: {'layers': (64, 32, 16, 8), 'lr': 0.0001}\n"
     ]
    },
    {
     "data": {
      "application/vnd.jupyter.widget-view+json": {
       "model_id": "825ab8d7d6224cc78014c5eb9efa0996",
       "version_major": 2,
       "version_minor": 0
      },
      "text/plain": [
       "HBox(children=(FloatProgress(value=0.0, max=50.0), HTML(value='')))"
      ]
     },
     "metadata": {},
     "output_type": "display_data"
    },
    {
     "name": "stdout",
     "output_type": "stream",
     "text": [
      "\n",
      "Optimization finished!\n",
      "Evaluating: {'layers': (64, 32, 16, 8), 'lr': 0.001}\n"
     ]
    },
    {
     "data": {
      "application/vnd.jupyter.widget-view+json": {
       "model_id": "0c74b5d44b3a4487afa738c87569c4ee",
       "version_major": 2,
       "version_minor": 0
      },
      "text/plain": [
       "HBox(children=(FloatProgress(value=0.0, max=50.0), HTML(value='')))"
      ]
     },
     "metadata": {},
     "output_type": "display_data"
    },
    {
     "name": "stdout",
     "output_type": "stream",
     "text": [
      "\n",
      "Optimization finished!\n",
      "Evaluating: {'layers': (64, 32, 16, 8), 'lr': 0.01}\n"
     ]
    },
    {
     "data": {
      "application/vnd.jupyter.widget-view+json": {
       "model_id": "8530eff254244af69cb48516d60a7638",
       "version_major": 2,
       "version_minor": 0
      },
      "text/plain": [
       "HBox(children=(FloatProgress(value=0.0, max=50.0), HTML(value='')))"
      ]
     },
     "metadata": {},
     "output_type": "display_data"
    },
    {
     "name": "stdout",
     "output_type": "stream",
     "text": [
      "\n",
      "Optimization finished!\n",
      "Evaluating: {'layers': (64, 32, 16, 8), 'lr': 0.1}\n"
     ]
    },
    {
     "data": {
      "application/vnd.jupyter.widget-view+json": {
       "model_id": "e8517729091543cb85075a01a7e5d20a",
       "version_major": 2,
       "version_minor": 0
      },
      "text/plain": [
       "HBox(children=(FloatProgress(value=0.0, max=50.0), HTML(value='')))"
      ]
     },
     "metadata": {},
     "output_type": "display_data"
    },
    {
     "name": "stdout",
     "output_type": "stream",
     "text": [
      "\n",
      "Optimization finished!\n",
      "Best parameter settings: {'layers': (32, 16, 8), 'lr': 0.0001}\n",
      "RMSE = 1.8571\n",
      "\n",
      "VALIDATION:\n",
      "...\n",
      "               |   RMSE | Time (s)\n",
      "-------------- + ------ + --------\n",
      "GridSearch_NMF | 1.8571 |   0.5048\n",
      "\n",
      "TEST:\n",
      "...\n",
      "               |   RMSE | Train (s) | Test (s)\n",
      "-------------- + ------ + --------- + --------\n",
      "GridSearch_NMF | 1.8648 |   18.6053 |   0.5197\n",
      "\n"
     ]
    }
   ],
   "source": [
    "#mlp\n",
    "mlp = cornac.models.ncf.recom_mlp.MLP()\n",
    "\n",
    "gs = GridSearch(\n",
    "    model=nmf,\n",
    "    space=[\n",
    "        Discrete(\"layers\", [(64,32,16,8), (32, 16,8)]),\n",
    "        Discrete(\"lr\", [1e-1, 1e-2, 1e-3, 1e-4]),\n",
    "    ],\n",
    "    metric=rmse,\n",
    "    eval_method=ratio_split\n",
    ")\n",
    "\n",
    "cornac.Experiment(\n",
    "    eval_method=ratio_split,\n",
    "    models=[gs],\n",
    "    metrics=[rmse],\n",
    "    user_based=False\n",
    ").run()"
   ]
  },
  {
   "cell_type": "markdown",
   "id": "896971f9",
   "metadata": {},
   "source": [
    "## Αλγόριθμος NCF με εύρεση βέλτιστων παραμέτρων με grid search"
   ]
  },
  {
   "cell_type": "code",
   "execution_count": 9,
   "id": "fb009295",
   "metadata": {},
   "outputs": [
    {
     "name": "stdout",
     "output_type": "stream",
     "text": [
      "Evaluating: {'num_factors': 5}\n"
     ]
    },
    {
     "data": {
      "application/vnd.jupyter.widget-view+json": {
       "model_id": "7b438c3ee6e847c58e5245b10f6a29c7",
       "version_major": 2,
       "version_minor": 0
      },
      "text/plain": [
       "HBox(children=(FloatProgress(value=0.0, max=20.0), HTML(value='')))"
      ]
     },
     "metadata": {},
     "output_type": "display_data"
    },
    {
     "name": "stdout",
     "output_type": "stream",
     "text": [
      "\n",
      "Evaluating: {'num_factors': 10}\n"
     ]
    },
    {
     "data": {
      "application/vnd.jupyter.widget-view+json": {
       "model_id": "4a04105cb5e6478982ab05186ab6e0a0",
       "version_major": 2,
       "version_minor": 0
      },
      "text/plain": [
       "HBox(children=(FloatProgress(value=0.0, max=20.0), HTML(value='')))"
      ]
     },
     "metadata": {},
     "output_type": "display_data"
    },
    {
     "name": "stdout",
     "output_type": "stream",
     "text": [
      "\n",
      "Evaluating: {'num_factors': 20}\n"
     ]
    },
    {
     "data": {
      "application/vnd.jupyter.widget-view+json": {
       "model_id": "73b245acfc6d439395573524c97cafb3",
       "version_major": 2,
       "version_minor": 0
      },
      "text/plain": [
       "HBox(children=(FloatProgress(value=0.0, max=20.0), HTML(value='')))"
      ]
     },
     "metadata": {},
     "output_type": "display_data"
    },
    {
     "name": "stdout",
     "output_type": "stream",
     "text": [
      "\n",
      "Best parameter settings: {'num_factors': 5}\n",
      "RMSE = 2.4794\n",
      "\n",
      "VALIDATION:\n",
      "...\n",
      "               |   RMSE | Time (s)\n",
      "-------------- + ------ + --------\n",
      "GridSearch_GMF | 2.4794 |  10.0555\n",
      "\n",
      "TEST:\n",
      "...\n",
      "               |   RMSE | Train (s) | Test (s)\n",
      "-------------- + ------ + --------- + --------\n",
      "GridSearch_GMF | 2.5247 | 1949.3694 |   9.0282\n",
      "\n"
     ]
    }
   ],
   "source": [
    "#neural collaborative filtering\n",
    "NCF = cornac.models.ncf.recom_gmf.GMF()\n",
    "\n",
    "gs = GridSearch(\n",
    "    model=NCF,\n",
    "    space=[\n",
    "        Discrete(\"num_factors\", [5,10,20])\n",
    "    ],\n",
    "    metric=rmse,\n",
    "    eval_method=ratio_split\n",
    ")\n",
    "\n",
    "cornac.Experiment(\n",
    "    eval_method=ratio_split,\n",
    "    models=[gs],\n",
    "    metrics=[rmse],\n",
    "    user_based=False\n",
    ").run()"
   ]
  },
  {
   "cell_type": "markdown",
   "id": "bd5581bd",
   "metadata": {},
   "source": [
    "## Δημιουργία και εκτέλεση βέλτιστων μοντέλων"
   ]
  },
  {
   "cell_type": "code",
   "execution_count": 10,
   "id": "c6cf5c71",
   "metadata": {},
   "outputs": [
    {
     "data": {
      "application/vnd.jupyter.widget-view+json": {
       "model_id": "b3d03cf2fe824ac98ce4a08b20170eb9",
       "version_major": 2,
       "version_minor": 0
      },
      "text/plain": [
       "HBox(children=(FloatProgress(value=0.0, max=20.0), HTML(value='')))"
      ]
     },
     "metadata": {},
     "output_type": "display_data"
    },
    {
     "name": "stdout",
     "output_type": "stream",
     "text": [
      "\n",
      "Optimization finished!\n"
     ]
    },
    {
     "data": {
      "application/vnd.jupyter.widget-view+json": {
       "model_id": "516dfbc4aaf74c9088af5937a8cf1f58",
       "version_major": 2,
       "version_minor": 0
      },
      "text/plain": [
       "HBox(children=(FloatProgress(value=0.0, max=2351.0), HTML(value='')))"
      ]
     },
     "metadata": {},
     "output_type": "display_data"
    },
    {
     "name": "stdout",
     "output_type": "stream",
     "text": [
      "\n"
     ]
    },
    {
     "data": {
      "application/vnd.jupyter.widget-view+json": {
       "model_id": "080efa3ec8164caf88daca1c3527a118",
       "version_major": 2,
       "version_minor": 0
      },
      "text/plain": [
       "HBox(children=(FloatProgress(value=0.0, max=2877.0), HTML(value='')))"
      ]
     },
     "metadata": {},
     "output_type": "display_data"
    },
    {
     "name": "stdout",
     "output_type": "stream",
     "text": [
      "\n"
     ]
    },
    {
     "data": {
      "application/vnd.jupyter.widget-view+json": {
       "model_id": "ffb8f0e352e64289804b65f2b674a04b",
       "version_major": 2,
       "version_minor": 0
      },
      "text/plain": [
       "HBox(children=(FloatProgress(value=0.0, max=50.0), HTML(value='')))"
      ]
     },
     "metadata": {},
     "output_type": "display_data"
    },
    {
     "name": "stdout",
     "output_type": "stream",
     "text": [
      "\n",
      "Optimization finished!\n"
     ]
    },
    {
     "data": {
      "application/vnd.jupyter.widget-view+json": {
       "model_id": "24faa2bee934424ca1087cda2cbe2efa",
       "version_major": 2,
       "version_minor": 0
      },
      "text/plain": [
       "HBox(children=(FloatProgress(value=0.0, max=20.0), HTML(value='')))"
      ]
     },
     "metadata": {},
     "output_type": "display_data"
    },
    {
     "name": "stdout",
     "output_type": "stream",
     "text": [
      "\n"
     ]
    },
    {
     "data": {
      "application/vnd.jupyter.widget-view+json": {
       "model_id": "45ff91556a154695a6644c96522e3ec6",
       "version_major": 2,
       "version_minor": 0
      },
      "text/plain": [
       "HBox(children=(FloatProgress(value=0.0, max=20.0), HTML(value='')))"
      ]
     },
     "metadata": {},
     "output_type": "display_data"
    },
    {
     "name": "stdout",
     "output_type": "stream",
     "text": [
      "\n",
      "\n",
      "TEST:\n",
      "...\n",
      "                |    MAE |   RMSE |    AUC | NDCG@5 | Precision@100 | Recall@100 | Train (s) | Test (s)\n",
      "--------------- + ------ + ------ + ------ + ------ + ------------- + ---------- + --------- + --------\n",
      "SVD             | 1.1555 | 1.5053 | 0.6258 | 0.0296 |        0.0234 |     0.3788 |    0.4897 |   8.5253\n",
      "UserKNN-Pearson | 1.0332 | 1.4102 | 0.6839 | 0.0002 |        0.0028 |     0.0409 |    1.4481 |  52.3292\n",
      "ItemKNN-Pearson | 1.1609 | 1.5110 | 0.5485 | 0.0001 |        0.0004 |     0.0055 |    0.8361 |  57.8195\n",
      "NMF             | 4.1299 | 4.7097 | 0.7283 | 0.0010 |        0.0062 |     0.1037 |    2.6169 |   7.2790\n",
      "MLP             | 1.0648 | 1.7799 | 0.9297 | 0.1176 |        0.0368 |     0.5625 |  658.8178 |  32.0419\n",
      "GMF             | 1.0648 | 1.7799 | 0.9509 | 0.1172 |        0.0407 |     0.6320 |  672.5264 |  26.7488\n",
      "\n",
      "SVD model is saved to C:\\Users\\Greg\\Python\\RecSys\\SVD\\2022-09-17_17-34-06-532977.pkl\n",
      "C:\\Users\\Greg\\Python\\RecSys\\SVD\\2022-09-17_17-34-06-532977.pkl\n",
      "UserKNN-Pearson model is saved to C:\\Users\\Greg\\Python\\RecSys\\UserKNN-Pearson\\2022-09-17_17-34-06-540976.pkl\n",
      "C:\\Users\\Greg\\Python\\RecSys\\UserKNN-Pearson\\2022-09-17_17-34-06-540976.pkl\n",
      "ItemKNN-Pearson model is saved to C:\\Users\\Greg\\Python\\RecSys\\ItemKNN-Pearson\\2022-09-17_17-34-06-805345.pkl\n",
      "C:\\Users\\Greg\\Python\\RecSys\\ItemKNN-Pearson\\2022-09-17_17-34-06-805345.pkl\n",
      "NMF model is saved to C:\\Users\\Greg\\Python\\RecSys\\NMF\\2022-09-17_17-34-06-856503.pkl\n",
      "C:\\Users\\Greg\\Python\\RecSys\\NMF\\2022-09-17_17-34-06-856503.pkl\n",
      "MLP model is saved to C:\\Users\\Greg\\Python\\RecSys\\MLP\\2022-09-17_17-34-06-860196.pkl\n",
      "C:\\Users\\Greg\\Python\\RecSys\\MLP\\2022-09-17_17-34-06-860196.pkl\n",
      "GMF model is saved to C:\\Users\\Greg\\Python\\RecSys\\GMF\\2022-09-17_17-34-08-040113.pkl\n",
      "C:\\Users\\Greg\\Python\\RecSys\\GMF\\2022-09-17_17-34-08-040113.pkl\n"
     ]
    }
   ],
   "source": [
    "#create models\n",
    "#SVD \n",
    "svd = cornac.models.SVD(\n",
    "    k=25, learning_rate=0.001, lambda_reg=0.001, verbose=True\n",
    ")\n",
    "\n",
    "# Instantiate a NMF recommender model.\n",
    "nmf = cornac.models.NMF(\n",
    "    k=30,\n",
    "    learning_rate=0.1,\n",
    "    lambda_reg=0.0001,\n",
    "    use_bias=False,\n",
    "    verbose=True,\n",
    "    seed=123,\n",
    ")\n",
    "\n",
    "# UserKNN methods\n",
    "user_knn_pearson = cornac.models.UserKNN(\n",
    "    k=40, similarity=\"pearson\", name=\"UserKNN-Pearson\"\n",
    ")\n",
    "# ItemKNN methods\n",
    "item_knn_pearson = cornac.models.ItemKNN(\n",
    "    k=35, similarity=\"pearson\", name=\"ItemKNN-Pearson\"\n",
    ")\n",
    "\n",
    "#neural networks\n",
    "mlp = cornac.models.ncf.recom_mlp.MLP(layers=(32,16,8), lr=0.0001)\n",
    "\n",
    "NCF = cornac.models.ncf.recom_gmf.GMF(num_factors = 5)\n",
    "\n",
    "# initialize models\n",
    "models = [\n",
    "    svd, user_knn_pearson, item_knn_pearson, nmf, mlp, NCF\n",
    "]\n",
    "\n",
    "# define metrics to evaluate the models\n",
    "metrics = [MAE(), RMSE(), Precision(k=100), Recall(k=100),AUC(), NDCG(5)]\n",
    "\n",
    "# put it together in an experiment, voilà!\n",
    "experiment = cornac.Experiment(eval_method=rs, models=models, metrics=metrics, user_based=True)\n",
    "experiment.run()\n",
    "\n",
    "# save\n",
    "models_2 = models\n",
    "for i in range(len(models)):\n",
    "    f = models[i].save(folder)\n",
    "    print(f)"
   ]
  },
  {
   "cell_type": "markdown",
   "id": "48f94ae8",
   "metadata": {},
   "source": [
    "## Δημιουργία καμπύλων AUC-ROC και Precision-Recall\n",
    "Για κάθε μοντέλο, κάνουμε δυαδικές τις τιμές του label και του prediction score και υπολογίζουμε τα FPR, TPR, Precision, Recall, τα οποία σχεδιάζουμε στα αντίστοιχα διαγράμματα."
   ]
  },
  {
   "cell_type": "code",
   "execution_count": 11,
   "id": "d224ed58",
   "metadata": {},
   "outputs": [],
   "source": [
    "data_test = rs.test_set.uir_tuple\n",
    "labels = data_test[2]    \n",
    "#make it binary\n",
    "labels[labels<2] = 0\n",
    "labels[labels>=2] = 1"
   ]
  },
  {
   "cell_type": "code",
   "execution_count": 12,
   "id": "2e81a106",
   "metadata": {},
   "outputs": [
    {
     "name": "stdout",
     "output_type": "stream",
     "text": [
      "SVD\n",
      "0.7073711394997768\n",
      "UserKNN-Pearson\n",
      "0.7175664281851408\n",
      "ItemKNN-Pearson\n",
      "0.638544208477216\n",
      "NMF\n",
      "0.6911349515626223\n",
      "MLP\n",
      "0.6032733113511308\n",
      "GMF\n",
      "0.5959397239655274\n"
     ]
    },
    {
     "data": {
      "image/png": "[encoded data removed]",
      "text/plain": [
       "<Figure size 432x288 with 1 Axes>"
      ]
     },
     "metadata": {
      "needs_background": "light"
     },
     "output_type": "display_data"
    },
    {
     "name": "stdout",
     "output_type": "stream",
     "text": [
      "SVD\n",
      "0.6938700668273783\n",
      "UserKNN-Pearson\n",
      "0.7007797026827507\n",
      "ItemKNN-Pearson\n",
      "0.6110952766997578\n",
      "NMF\n",
      "0.6693227465961649\n",
      "MLP\n",
      "0.6011083043599705\n",
      "GMF\n",
      "0.5811271219228662\n"
     ]
    },
    {
     "data": {
      "text/plain": [
       "<Figure size 432x288 with 0 Axes>"
      ]
     },
     "metadata": {},
     "output_type": "display_data"
    },
    {
     "data": {
      "image/png": "[encoded data removed]",
      "text/plain": [
       "<Figure size 432x288 with 1 Axes>"
      ]
     },
     "metadata": {
      "needs_background": "light"
     },
     "output_type": "display_data"
    },
    {
     "data": {
      "text/plain": [
       "<Figure size 432x288 with 0 Axes>"
      ]
     },
     "metadata": {},
     "output_type": "display_data"
    }
   ],
   "source": [
    "#caluclate ROC and PR and plot\n",
    "A = len(models)\n",
    "scores_all = np.zeros((len(labels),A))    \n",
    "for i in range(A):\n",
    "    s = np.zeros(len(labels))\n",
    "    #get users from data_test and predict score\n",
    "    for j in range(data_test[0].shape[0]):\n",
    "        user = data_test[0][j]\n",
    "        item = data_test[1][j]\n",
    "        s[j] = models[i].score(user, item) \n",
    "    \n",
    "    \n",
    "    s = s / max(s) #make it from 0-1\n",
    "    scores_all[:,i]=s\n",
    "\n",
    "\n",
    "np.save('scores.npy',scores_all)\n",
    "\n",
    "plt.figure()\n",
    "lw = 2\n",
    "for i in range(A):    \n",
    "    fpr, tpr, _ = roc_curve(labels, scores_all[:,i])\n",
    "    roc_auc = auc(fpr, tpr)    \n",
    "    \n",
    "    print(models[i].name)\n",
    "    print(roc_auc)\n",
    "        \n",
    "    plt.plot(fpr, tpr, \n",
    "             lw=lw, label= models[i].name + ' (area = %0.2f)' % roc_auc)\n",
    "\n",
    "    \n",
    "plt.plot([0, 1], [0, 1], color='navy', lw=lw, linestyle='--')\n",
    "plt.xlim([0.0, 1.0])\n",
    "plt.ylim([0.0, 1.05])\n",
    "plt.xlabel('False Positive Rate')\n",
    "plt.ylabel('True Positive Rate')\n",
    "title= 'ROC curve'\n",
    "plt.title(title)\n",
    "plt.legend(loc=\"lower right\")\n",
    "plt.show()\n",
    "plt.savefig(title + '.png')\n",
    "    \n",
    "\n",
    "plt.figure()\n",
    "lw = 2\n",
    "for i in range(A):    \n",
    "    pr, rec, thr = precision_recall_curve(labels, scores_all[:,i])\n",
    "    avg_pr = average_precision_score(labels, scores_all[:,i])\n",
    "    \n",
    "    print(models[i].name)\n",
    "    print(avg_pr)\n",
    "    \n",
    "    \n",
    "    plt.plot(rec, pr, \n",
    "             lw=lw, label=models[i].name + ' (area = %0.2f)' % avg_pr)\n",
    "    \n",
    "title = 'PR curve'\n",
    "plt.xlim([0.0, 1.0])\n",
    "plt.ylim([0.0, 1.05])\n",
    "plt.xlabel('Recall')\n",
    "plt.ylabel('Precision')\n",
    "plt.title('PR Curve')\n",
    "plt.legend(loc=\"lower right\")\n",
    "plt.show()\n",
    "plt.savefig(title + '.png')"
   ]
  },
  {
   "cell_type": "markdown",
   "id": "dc04adc6",
   "metadata": {},
   "source": [
    "## NDCG metric"
   ]
  },
  {
   "cell_type": "code",
   "execution_count": 13,
   "id": "09e590f0",
   "metadata": {},
   "outputs": [
    {
     "data": {
      "image/png": "[encoded data removed]",
      "text/plain": [
       "<Figure size 432x288 with 1 Axes>"
      ]
     },
     "metadata": {
      "needs_background": "light"
     },
     "output_type": "display_data"
    }
   ],
   "source": [
    "names = ['SVD', 'UserKNN', 'ItemKNN', 'NMF', 'MLP', 'GMF']\n",
    "#ndcg_metric = [0.0302, 0.0002, 0.0001, 0.0053, 0.1164]\n",
    "ndcg_metric = [experiment.result[i].metric_avg_results['NDCG@5'] for i in range(A)]\n",
    "plt.figure()\n",
    "plt.bar([1,2,3,4,5,6],ndcg_metric,tick_label=names)\n",
    "plt.ylabel('NDCG score')\n",
    "plt.savefig('ndcg.png')\n",
    "\n"
   ]
  },
  {
   "cell_type": "markdown",
   "id": "e998fada",
   "metadata": {},
   "source": [
    "## Safety score\n",
    "Πρώτα φορτώνουμε το αρχείο με τις παρενέργειες και δημιουργούμε έναν πίνακα ΝxΝ, όπου Ν το πλήθος των φαρμάκων με 1 αν έχουν παρενέργειες, αλλιώς 0. Στη συνέχεια ορίζουμε τη συνάρτηση που υπολογίζει το safety score με βάση τις προβλέψεις και αυτό τον πίνακα."
   ]
  },
  {
   "cell_type": "code",
   "execution_count": 14,
   "id": "8adac951",
   "metadata": {},
   "outputs": [
    {
     "name": "stdout",
     "output_type": "stream",
     "text": [
      "Processed 1805374 lines.\n"
     ]
    }
   ],
   "source": [
    "ddi_file = 'DrugDrugInteractions.txt'\n",
    "\n",
    "import csv\n",
    "drug1 = []\n",
    "drug2 = []\n",
    "with open(ddi_file) as csv_file:\n",
    "    csv_reader = csv.reader(csv_file, delimiter=',')\n",
    "    line_count = 0\n",
    "    for row in csv_reader:\n",
    "        drug1.append('\"' + row[0] + '\"')\n",
    "        drug2.append('\"' + row[1] + '\"')\n",
    "        line_count += 1\n",
    "    print(f'Processed {line_count} lines.')\n",
    "    \n",
    "#get drug indexes\n",
    "iid = rs.global_iid_map\n",
    "    \n",
    "drug1_id = []\n",
    "drug2_id = []    \n",
    "for i in range(len(drug1)):\n",
    "    if (drug1[i] in iid) and (drug2[i] in iid):\n",
    "        d1 = iid[drug1[i]]\n",
    "        d2 = iid[drug2[i]]\n",
    "        drug1_id.append(d1)\n",
    "        drug2_id.append(d2)\n",
    "\n",
    "#create an adjacency matrix (1 if drugs connected, else 0)    \n",
    "import scipy    \n",
    "N = max(max(drug1_id), max(drug2_id))+1    \n",
    "ddi_s = scipy.sparse.csr_matrix((np.ones(len(drug1_id)), (drug1_id, drug2_id)), shape=(N, N)) \n",
    "    "
   ]
  },
  {
   "cell_type": "code",
   "execution_count": 15,
   "id": "dd49b85e",
   "metadata": {},
   "outputs": [],
   "source": [
    "def safety(data_test, labels, ddi):\n",
    "    score = []\n",
    "    users = data_test[0]\n",
    "    drugs = data_test[1]\n",
    "    checked = []\n",
    "    for i in range(users.shape[0]):\n",
    "        #get user i and see if we already calculated a score for him\n",
    "        user = users[i]\n",
    "        if user in checked:\n",
    "            continue\n",
    "        checked.append(user)\n",
    "        \n",
    "        #which drugs where recommended\n",
    "        x = (users == user) & (labels == 1)\n",
    "        d = drugs[x]\n",
    "        \n",
    "        #calculate safety score\n",
    "        s = 0\n",
    "        n = len(d)\n",
    "        if n < 2:\n",
    "            continue\n",
    "        for j in range(n-1):\n",
    "            for k in range(j+1,n):\n",
    "                d1 = d[j]\n",
    "                d2 = d[k]\n",
    "                if ddi[d1,d2] == 1:\n",
    "                    s = s + 1       \n",
    "        s = s / (n*(n-1)/2)\n",
    "        score.append(s)\n",
    "    \n",
    "    #mean across users\n",
    "    score_avg = np.mean(score)\n",
    "    return score_avg "
   ]
  },
  {
   "cell_type": "code",
   "execution_count": 16,
   "id": "bfbf9c10",
   "metadata": {},
   "outputs": [
    {
     "data": {
      "image/png": "[encoded data removed]",
      "text/plain": [
       "<Figure size 432x288 with 1 Axes>"
      ]
     },
     "metadata": {
      "needs_background": "light"
     },
     "output_type": "display_data"
    }
   ],
   "source": [
    "   \n",
    "\n",
    "#print(safety(data_test, labels, ddi_s))\n",
    "    \n",
    "safety_score = []\n",
    "for i in range(A):\n",
    "    recommendation = scores_all[:,i].copy()\n",
    "    recommendation[recommendation<0.5] = 0\n",
    "    recommendation[recommendation>=0.5] = 1\n",
    "    s = safety(data_test, recommendation, ddi_s)\n",
    "    safety_score.append(s)\n",
    "    \n",
    "names = ['SVD', 'UserKNN', 'ItemKNN', 'NMF', 'MLP', 'GMF']\n",
    "\n",
    "plt.figure()\n",
    "plt.bar([1,2,3,4,5,6],safety_score,tick_label=names)\n",
    "plt.ylabel('Toxicity score')\n",
    "plt.savefig('safety.png')\n"
   ]
  },
  {
   "cell_type": "markdown",
   "id": "8936b3ad",
   "metadata": {},
   "source": [
    "## Υπολογισμός παρενεργειών στις top-5 προτάσεις"
   ]
  },
  {
   "cell_type": "code",
   "execution_count": 17,
   "id": "7276ce25",
   "metadata": {},
   "outputs": [],
   "source": [
    "def topk_side_effects(data_test, scores, ddi, K=5):\n",
    "    score = []\n",
    "    users = data_test[0]\n",
    "    drugs = data_test[1]\n",
    "    checked = []\n",
    "    for i in range(users.shape[0]):\n",
    "        #get user i and see if we already calculated a score for him\n",
    "        user = users[i]\n",
    "        if user in checked:\n",
    "            continue\n",
    "        checked.append(user)\n",
    "        \n",
    "        #which drugs where recommended\n",
    "        x = (users == user) \n",
    "        recomm = scores[x]\n",
    "        idx = np.argsort(recomm)\n",
    "        top5 = idx[-K:]\n",
    "        \n",
    "        d = drugs[top5]\n",
    "        \n",
    "        #calculate score\n",
    "        s = 0\n",
    "        n = len(d)\n",
    "        if n < 2:\n",
    "            score.append(s)\n",
    "            continue\n",
    "        for j in range(n-1):\n",
    "            for k in range(j+1,n):\n",
    "                d1 = d[j]\n",
    "                d2 = d[k]\n",
    "                if ddi[d1,d2] == 1:\n",
    "                    s = s + 1       \n",
    "        score.append(s)\n",
    "    \n",
    "    #mean across users\n",
    "    score_avg = np.mean(score)\n",
    "    return score_avg    "
   ]
  },
  {
   "cell_type": "code",
   "execution_count": 18,
   "id": "543f258c",
   "metadata": {},
   "outputs": [
    {
     "name": "stdout",
     "output_type": "stream",
     "text": [
      "[2.3000852514919012, 2.28772378516624, 2.28772378516624, 2.268542199488491, 2.294543904518329, 2.2830349531116796]\n"
     ]
    },
    {
     "data": {
      "image/png": "[encoded data removed]",
      "text/plain": [
       "<Figure size 432x288 with 1 Axes>"
      ]
     },
     "metadata": {
      "needs_background": "light"
     },
     "output_type": "display_data"
    }
   ],
   "source": [
    "scores_all = np.load('scores.npy')\n",
    "\n",
    "sc = []\n",
    "for i in range(6):\n",
    "    recommendation = scores_all[:,i]\n",
    "    #print(recommendation)\n",
    "    s = topk_side_effects(data_test, recommendation, ddi_s)\n",
    "    \n",
    "    sc.append(s)\n",
    "    \n",
    "    \n",
    "print(sc)\n",
    "\n",
    "names = ['SVD', 'UserKNN', 'ItemKNN', 'NMF', 'MLP', 'GMF']\n",
    "plt.figure()\n",
    "plt.bar([1,2,3,4,5,6],sc,tick_label=names)\n",
    "plt.ylabel('Side-effects in top-5 recommendations')\n",
    "plt.savefig('side.png')\n"
   ]
  },
  {
   "cell_type": "markdown",
   "id": "79c2a1d9",
   "metadata": {},
   "source": [
    "## Re-ranking για τον SVD"
   ]
  },
  {
   "cell_type": "code",
   "execution_count": null,
   "id": "b13610ee",
   "metadata": {},
   "outputs": [],
   "source": []
  },
  {
   "cell_type": "code",
   "execution_count": 19,
   "id": "ee667a34",
   "metadata": {},
   "outputs": [
    {
     "name": "stdout",
     "output_type": "stream",
     "text": [
      "SVD Reranking\n",
      "0.6406815069741261\n"
     ]
    },
    {
     "data": {
      "image/png": "[encoded data removed]",
      "text/plain": [
       "<Figure size 432x288 with 1 Axes>"
      ]
     },
     "metadata": {
      "needs_background": "light"
     },
     "output_type": "display_data"
    },
    {
     "name": "stdout",
     "output_type": "stream",
     "text": [
      "0.6938700668273783\n"
     ]
    },
    {
     "data": {
      "text/plain": [
       "<Figure size 432x288 with 0 Axes>"
      ]
     },
     "metadata": {},
     "output_type": "display_data"
    },
    {
     "data": {
      "image/png": "[encoded data removed]",
      "text/plain": [
       "<Figure size 432x288 with 1 Axes>"
      ]
     },
     "metadata": {
      "needs_background": "light"
     },
     "output_type": "display_data"
    },
    {
     "name": "stdout",
     "output_type": "stream",
     "text": [
      "0.24183705864757973\n",
      "2.3414322250639388\n"
     ]
    },
    {
     "data": {
      "text/plain": [
       "<Figure size 432x288 with 0 Axes>"
      ]
     },
     "metadata": {},
     "output_type": "display_data"
    },
    {
     "data": {
      "image/png": "[encoded data removed]",
      "text/plain": [
       "<Figure size 432x288 with 1 Axes>"
      ]
     },
     "metadata": {
      "needs_background": "light"
     },
     "output_type": "display_data"
    }
   ],
   "source": [
    "DF = np.sum(ddi_s, axis=0)\n",
    "DF = np.ravel(DF)\n",
    "DF = DF / np.max(DF) #make it 0-1\n",
    "\n",
    "scores_all = np.load('scores.npy')\n",
    "\n",
    "def rerank(data_test, DF, scores):\n",
    "    score_rerank = scores.copy()\n",
    "    drugs = data_test[1]\n",
    "    checked = []\n",
    "    \n",
    "    for i in range(drugs.shape[0]):\n",
    "        #get user i and see if we already calculated a score for him\n",
    "        drug = drugs[i]\n",
    "        if drug in checked:\n",
    "            continue\n",
    "        checked.append(drug)\n",
    "        \n",
    "        if DF[drug] == 0:\n",
    "            continue\n",
    "        \n",
    "        x = np.where(drugs == drug)[0]\n",
    "        for j in x:\n",
    "            if scores[j] >= 0:\n",
    "                    score_rerank[j] = scores[j] / DF[drug]\n",
    "            else:\n",
    "                score_rerank[j] = scores[j] * DF[drug]\n",
    "                    \n",
    "                    \n",
    "    return score_rerank\n",
    "\n",
    "\n",
    "score_rerank = rerank(data_test, DF, scores_all[:,0])        \n",
    "\n",
    "fpr, tpr, _ = roc_curve(labels, scores_all[:,0])\n",
    "roc_auc = auc(fpr, tpr)   \n",
    "\n",
    "fpr2, tpr2, _ = roc_curve(labels, score_rerank)\n",
    "roc_auc2 = auc(fpr2, tpr2)    \n",
    "\n",
    "print(\"SVD Reranking\")\n",
    "print(roc_auc2)\n",
    "\n",
    "\n",
    "plt.figure()\n",
    "lw = 2\n",
    "    \n",
    "plt.plot(fpr, tpr, \n",
    "         lw=lw, label= 'SVD (area = %0.2f)' % roc_auc)\n",
    "plt.plot(fpr2, tpr2, \n",
    "         lw=lw, label= 'SVD Rerank (area = %0.2f)' % roc_auc2)\n",
    "plt.plot([0, 1], [0, 1], color='navy', lw=lw, linestyle='--')\n",
    "plt.xlim([0.0, 1.0])\n",
    "plt.ylim([0.0, 1.05])\n",
    "plt.xlabel('False Positive Rate')\n",
    "plt.ylabel('True Positive Rate')\n",
    "title= 'ROC curve'\n",
    "plt.title(title)\n",
    "plt.legend(loc=\"lower right\")\n",
    "plt.show()\n",
    "plt.savefig(title + '_rerank_both.png')\n",
    "    \n",
    "\n",
    "\n",
    "pr, rec, thr = precision_recall_curve(labels, scores_all[:,0])\n",
    "avg_pr = average_precision_score(labels, scores_all[:,0])\n",
    "\n",
    "pr2, rec2, thr2 = precision_recall_curve(labels, score_rerank)\n",
    "avg_pr2 = average_precision_score(labels, score_rerank)\n",
    "\n",
    "i=0\n",
    "print(avg_pr)\n",
    "\n",
    "plt.figure()\n",
    "lw = 2\n",
    "\n",
    "plt.plot(rec, pr, \n",
    "         lw=lw, label='SVD (area = %0.2f)' % avg_pr)\n",
    "plt.plot(rec2, pr2, \n",
    "         lw=lw, label='SVD Rerank (area = %0.2f)' % avg_pr2)\n",
    "    \n",
    "title = 'PR curve'\n",
    "plt.xlim([0.0, 1.0])\n",
    "plt.ylim([0.0, 1.05])\n",
    "plt.xlabel('Recall')\n",
    "plt.ylabel('Precision')\n",
    "plt.title('PR Curve')\n",
    "plt.legend(loc=\"lower right\")\n",
    "plt.show()\n",
    "plt.savefig(title + '_rerank_both.png')\n",
    "        \n",
    "\n",
    "recommendation = score_rerank.copy()\n",
    "\n",
    "recommendation[recommendation<0.5] = 0\n",
    "recommendation[recommendation>=0.5] = 1\n",
    "s = safety(data_test, recommendation, ddi_s)\n",
    "print(s)\n",
    "\n",
    "\n",
    "sc2 = topk_side_effects(data_test, score_rerank, ddi_s, 5)    \n",
    "print(sc2)\n",
    "\n",
    "names = ['SVD', 'SVD-rerank']\n",
    "plt.figure()\n",
    "plt.bar([1,2],[sc[0], sc2],tick_label=names)\n",
    "plt.ylim(2.2, 2.8)\n",
    "plt.ylabel('Side-effects in top-5 recommendations')\n",
    "plt.savefig('side2_svg_rerank.png')"
   ]
  },
  {
   "cell_type": "markdown",
   "id": "5e98335a",
   "metadata": {},
   "source": [
    "## Παράδειγμα"
   ]
  },
  {
   "cell_type": "code",
   "execution_count": 20,
   "id": "97675e75",
   "metadata": {},
   "outputs": [
    {
     "name": "stdout",
     "output_type": "stream",
     "text": [
      "All drugs (test dataset) for user 1:\n",
      "[ 690  106  753  131  137   71  656  589  192 1000  135  543]\n",
      "Best-5 drugs and score for user 1:\n",
      "[460 690 192  52 574]\n",
      "[0.54988716 0.47644141 0.35409784 0.26081621 0.22538092]\n",
      "Best-5 drugs and score for user 1 with re-ranking:\n",
      "[690 102 460 574 131]\n",
      "[155.22461185   9.00685938   0.6922459    0.52826693   0.42763552]\n"
     ]
    }
   ],
   "source": [
    "# example\n",
    "users = data_test[0]\n",
    "drugs = data_test[1]\n",
    "    \n",
    "x = np.where(users==users[1])[0]\n",
    "print(\"All drugs (test dataset) for user 1:\")\n",
    "print(drugs[x])\n",
    "rec = scores_all[x,0]\n",
    "idx = np.argsort(rec)\n",
    "best = idx[-5:]\n",
    "best = list(best)\n",
    "best.reverse()\n",
    "print(\"Best-5 drugs and score for user 1:\")\n",
    "print(drugs[best])\n",
    "print(rec[best])\n",
    "\n",
    "rec = score_rerank[x]\n",
    "idx = np.argsort(rec)\n",
    "best = idx[-5:]\n",
    "best = list(best)\n",
    "best.reverse()\n",
    "print(\"Best-5 drugs and score for user 1 with re-ranking:\")\n",
    "print(drugs[best])\n",
    "print(rec[best])"
   ]
  },
  {
   "cell_type": "code",
   "execution_count": null,
   "id": "89fdf14c",
   "metadata": {},
   "outputs": [],
   "source": []
  }
 ],
 "metadata": {
  "kernelspec": {
   "display_name": "Python 3 (ipykernel)",
   "language": "python",
   "name": "python3"
  },
  "language_info": {
   "codemirror_mode": {
    "name": "ipython",
    "version": 3
   },
   "file_extension": ".py",
   "mimetype": "text/x-python",
   "name": "python",
   "nbconvert_exporter": "python",
   "pygments_lexer": "ipython3",
   "version": "3.7.11"
  }
 },
 "nbformat": 4,
 "nbformat_minor": 5
}
